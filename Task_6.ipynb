{
  "nbformat": 4,
  "nbformat_minor": 0,
  "metadata": {
    "kernelspec": {
      "display_name": "Python 3",
      "language": "python",
      "name": "python3"
    },
    "language_info": {
      "codemirror_mode": {
        "name": "ipython",
        "version": 3
      },
      "file_extension": ".py",
      "mimetype": "text/x-python",
      "name": "python",
      "nbconvert_exporter": "python",
      "pygments_lexer": "ipython3",
      "version": "3.6.9"
    },
    "colab": {
      "name": "Task_6.ipynb",
      "provenance": []
    },
    "widgets": {
      "application/vnd.jupyter.widget-state+json": {
        "cae47fc9a8fd4d24b020ad3ab14f4520": {
          "model_module": "@jupyter-widgets/controls",
          "model_name": "HBoxModel",
          "state": {
            "_view_name": "HBoxView",
            "_dom_classes": [],
            "_model_name": "HBoxModel",
            "_view_module": "@jupyter-widgets/controls",
            "_model_module_version": "1.5.0",
            "_view_count": null,
            "_view_module_version": "1.5.0",
            "box_style": "",
            "layout": "IPY_MODEL_a900f79f872b4668bad86555de7401f0",
            "_model_module": "@jupyter-widgets/controls",
            "children": [
              "IPY_MODEL_4a3aff92997b4f96acbbe4766840412e",
              "IPY_MODEL_6c29448a9c4546b2bb4df2fd74c55bec"
            ]
          }
        },
        "a900f79f872b4668bad86555de7401f0": {
          "model_module": "@jupyter-widgets/base",
          "model_name": "LayoutModel",
          "state": {
            "_view_name": "LayoutView",
            "grid_template_rows": null,
            "right": null,
            "justify_content": null,
            "_view_module": "@jupyter-widgets/base",
            "overflow": null,
            "_model_module_version": "1.2.0",
            "_view_count": null,
            "flex_flow": null,
            "width": null,
            "min_width": null,
            "border": null,
            "align_items": null,
            "bottom": null,
            "_model_module": "@jupyter-widgets/base",
            "top": null,
            "grid_column": null,
            "overflow_y": null,
            "overflow_x": null,
            "grid_auto_flow": null,
            "grid_area": null,
            "grid_template_columns": null,
            "flex": null,
            "_model_name": "LayoutModel",
            "justify_items": null,
            "grid_row": null,
            "max_height": null,
            "align_content": null,
            "visibility": null,
            "align_self": null,
            "height": null,
            "min_height": null,
            "padding": null,
            "grid_auto_rows": null,
            "grid_gap": null,
            "max_width": null,
            "order": null,
            "_view_module_version": "1.2.0",
            "grid_template_areas": null,
            "object_position": null,
            "object_fit": null,
            "grid_auto_columns": null,
            "margin": null,
            "display": null,
            "left": null
          }
        },
        "4a3aff92997b4f96acbbe4766840412e": {
          "model_module": "@jupyter-widgets/controls",
          "model_name": "FloatProgressModel",
          "state": {
            "_view_name": "ProgressView",
            "style": "IPY_MODEL_5db9deef1ea04ddbb0f8fb745611db84",
            "_dom_classes": [],
            "description": "100%",
            "_model_name": "FloatProgressModel",
            "bar_style": "success",
            "max": 3000,
            "_view_module": "@jupyter-widgets/controls",
            "_model_module_version": "1.5.0",
            "value": 3000,
            "_view_count": null,
            "_view_module_version": "1.5.0",
            "orientation": "horizontal",
            "min": 0,
            "description_tooltip": null,
            "_model_module": "@jupyter-widgets/controls",
            "layout": "IPY_MODEL_e4a3b46b4487473e89f07f3bac91e81d"
          }
        },
        "6c29448a9c4546b2bb4df2fd74c55bec": {
          "model_module": "@jupyter-widgets/controls",
          "model_name": "HTMLModel",
          "state": {
            "_view_name": "HTMLView",
            "style": "IPY_MODEL_12b88942b87e406986f262cc653e9bc2",
            "_dom_classes": [],
            "description": "",
            "_model_name": "HTMLModel",
            "placeholder": "​",
            "_view_module": "@jupyter-widgets/controls",
            "_model_module_version": "1.5.0",
            "value": " 3000/3000 [03:22&lt;00:00, 14.83it/s]",
            "_view_count": null,
            "_view_module_version": "1.5.0",
            "description_tooltip": null,
            "_model_module": "@jupyter-widgets/controls",
            "layout": "IPY_MODEL_3b34a53060914fcdb6466fd6c4321808"
          }
        },
        "5db9deef1ea04ddbb0f8fb745611db84": {
          "model_module": "@jupyter-widgets/controls",
          "model_name": "ProgressStyleModel",
          "state": {
            "_view_name": "StyleView",
            "_model_name": "ProgressStyleModel",
            "description_width": "initial",
            "_view_module": "@jupyter-widgets/base",
            "_model_module_version": "1.5.0",
            "_view_count": null,
            "_view_module_version": "1.2.0",
            "bar_color": null,
            "_model_module": "@jupyter-widgets/controls"
          }
        },
        "e4a3b46b4487473e89f07f3bac91e81d": {
          "model_module": "@jupyter-widgets/base",
          "model_name": "LayoutModel",
          "state": {
            "_view_name": "LayoutView",
            "grid_template_rows": null,
            "right": null,
            "justify_content": null,
            "_view_module": "@jupyter-widgets/base",
            "overflow": null,
            "_model_module_version": "1.2.0",
            "_view_count": null,
            "flex_flow": null,
            "width": null,
            "min_width": null,
            "border": null,
            "align_items": null,
            "bottom": null,
            "_model_module": "@jupyter-widgets/base",
            "top": null,
            "grid_column": null,
            "overflow_y": null,
            "overflow_x": null,
            "grid_auto_flow": null,
            "grid_area": null,
            "grid_template_columns": null,
            "flex": null,
            "_model_name": "LayoutModel",
            "justify_items": null,
            "grid_row": null,
            "max_height": null,
            "align_content": null,
            "visibility": null,
            "align_self": null,
            "height": null,
            "min_height": null,
            "padding": null,
            "grid_auto_rows": null,
            "grid_gap": null,
            "max_width": null,
            "order": null,
            "_view_module_version": "1.2.0",
            "grid_template_areas": null,
            "object_position": null,
            "object_fit": null,
            "grid_auto_columns": null,
            "margin": null,
            "display": null,
            "left": null
          }
        },
        "12b88942b87e406986f262cc653e9bc2": {
          "model_module": "@jupyter-widgets/controls",
          "model_name": "DescriptionStyleModel",
          "state": {
            "_view_name": "StyleView",
            "_model_name": "DescriptionStyleModel",
            "description_width": "",
            "_view_module": "@jupyter-widgets/base",
            "_model_module_version": "1.5.0",
            "_view_count": null,
            "_view_module_version": "1.2.0",
            "_model_module": "@jupyter-widgets/controls"
          }
        },
        "3b34a53060914fcdb6466fd6c4321808": {
          "model_module": "@jupyter-widgets/base",
          "model_name": "LayoutModel",
          "state": {
            "_view_name": "LayoutView",
            "grid_template_rows": null,
            "right": null,
            "justify_content": null,
            "_view_module": "@jupyter-widgets/base",
            "overflow": null,
            "_model_module_version": "1.2.0",
            "_view_count": null,
            "flex_flow": null,
            "width": null,
            "min_width": null,
            "border": null,
            "align_items": null,
            "bottom": null,
            "_model_module": "@jupyter-widgets/base",
            "top": null,
            "grid_column": null,
            "overflow_y": null,
            "overflow_x": null,
            "grid_auto_flow": null,
            "grid_area": null,
            "grid_template_columns": null,
            "flex": null,
            "_model_name": "LayoutModel",
            "justify_items": null,
            "grid_row": null,
            "max_height": null,
            "align_content": null,
            "visibility": null,
            "align_self": null,
            "height": null,
            "min_height": null,
            "padding": null,
            "grid_auto_rows": null,
            "grid_gap": null,
            "max_width": null,
            "order": null,
            "_view_module_version": "1.2.0",
            "grid_template_areas": null,
            "object_position": null,
            "object_fit": null,
            "grid_auto_columns": null,
            "margin": null,
            "display": null,
            "left": null
          }
        },
        "361f7444a9504895a6461d5f795e056f": {
          "model_module": "@jupyter-widgets/controls",
          "model_name": "HBoxModel",
          "state": {
            "_view_name": "HBoxView",
            "_dom_classes": [],
            "_model_name": "HBoxModel",
            "_view_module": "@jupyter-widgets/controls",
            "_model_module_version": "1.5.0",
            "_view_count": null,
            "_view_module_version": "1.5.0",
            "box_style": "",
            "layout": "IPY_MODEL_440b8b9e9faf49278f9955ca92f4693d",
            "_model_module": "@jupyter-widgets/controls",
            "children": [
              "IPY_MODEL_5786876c57314bdd9aed521fecae9eec",
              "IPY_MODEL_d66578f7d70c48159313d93041fbe7d6"
            ]
          }
        },
        "440b8b9e9faf49278f9955ca92f4693d": {
          "model_module": "@jupyter-widgets/base",
          "model_name": "LayoutModel",
          "state": {
            "_view_name": "LayoutView",
            "grid_template_rows": null,
            "right": null,
            "justify_content": null,
            "_view_module": "@jupyter-widgets/base",
            "overflow": null,
            "_model_module_version": "1.2.0",
            "_view_count": null,
            "flex_flow": null,
            "width": null,
            "min_width": null,
            "border": null,
            "align_items": null,
            "bottom": null,
            "_model_module": "@jupyter-widgets/base",
            "top": null,
            "grid_column": null,
            "overflow_y": null,
            "overflow_x": null,
            "grid_auto_flow": null,
            "grid_area": null,
            "grid_template_columns": null,
            "flex": null,
            "_model_name": "LayoutModel",
            "justify_items": null,
            "grid_row": null,
            "max_height": null,
            "align_content": null,
            "visibility": null,
            "align_self": null,
            "height": null,
            "min_height": null,
            "padding": null,
            "grid_auto_rows": null,
            "grid_gap": null,
            "max_width": null,
            "order": null,
            "_view_module_version": "1.2.0",
            "grid_template_areas": null,
            "object_position": null,
            "object_fit": null,
            "grid_auto_columns": null,
            "margin": null,
            "display": null,
            "left": null
          }
        },
        "5786876c57314bdd9aed521fecae9eec": {
          "model_module": "@jupyter-widgets/controls",
          "model_name": "FloatProgressModel",
          "state": {
            "_view_name": "ProgressView",
            "style": "IPY_MODEL_f8bdd7bc7db54fd1bf7a06945142e5b7",
            "_dom_classes": [],
            "description": "100%",
            "_model_name": "FloatProgressModel",
            "bar_style": "success",
            "max": 15000,
            "_view_module": "@jupyter-widgets/controls",
            "_model_module_version": "1.5.0",
            "value": 15000,
            "_view_count": null,
            "_view_module_version": "1.5.0",
            "orientation": "horizontal",
            "min": 0,
            "description_tooltip": null,
            "_model_module": "@jupyter-widgets/controls",
            "layout": "IPY_MODEL_b5f1b4c2c139465e8bf78f0a60f751f7"
          }
        },
        "d66578f7d70c48159313d93041fbe7d6": {
          "model_module": "@jupyter-widgets/controls",
          "model_name": "HTMLModel",
          "state": {
            "_view_name": "HTMLView",
            "style": "IPY_MODEL_884f9ea894c0409d8db5b2a9c14c3d2f",
            "_dom_classes": [],
            "description": "",
            "_model_name": "HTMLModel",
            "placeholder": "​",
            "_view_module": "@jupyter-widgets/controls",
            "_model_module_version": "1.5.0",
            "value": " 15000/15000 [02:48&lt;00:00, 89.26it/s]",
            "_view_count": null,
            "_view_module_version": "1.5.0",
            "description_tooltip": null,
            "_model_module": "@jupyter-widgets/controls",
            "layout": "IPY_MODEL_9f5bc3eb39c54ef4a9a592c3f11f6009"
          }
        },
        "f8bdd7bc7db54fd1bf7a06945142e5b7": {
          "model_module": "@jupyter-widgets/controls",
          "model_name": "ProgressStyleModel",
          "state": {
            "_view_name": "StyleView",
            "_model_name": "ProgressStyleModel",
            "description_width": "initial",
            "_view_module": "@jupyter-widgets/base",
            "_model_module_version": "1.5.0",
            "_view_count": null,
            "_view_module_version": "1.2.0",
            "bar_color": null,
            "_model_module": "@jupyter-widgets/controls"
          }
        },
        "b5f1b4c2c139465e8bf78f0a60f751f7": {
          "model_module": "@jupyter-widgets/base",
          "model_name": "LayoutModel",
          "state": {
            "_view_name": "LayoutView",
            "grid_template_rows": null,
            "right": null,
            "justify_content": null,
            "_view_module": "@jupyter-widgets/base",
            "overflow": null,
            "_model_module_version": "1.2.0",
            "_view_count": null,
            "flex_flow": null,
            "width": null,
            "min_width": null,
            "border": null,
            "align_items": null,
            "bottom": null,
            "_model_module": "@jupyter-widgets/base",
            "top": null,
            "grid_column": null,
            "overflow_y": null,
            "overflow_x": null,
            "grid_auto_flow": null,
            "grid_area": null,
            "grid_template_columns": null,
            "flex": null,
            "_model_name": "LayoutModel",
            "justify_items": null,
            "grid_row": null,
            "max_height": null,
            "align_content": null,
            "visibility": null,
            "align_self": null,
            "height": null,
            "min_height": null,
            "padding": null,
            "grid_auto_rows": null,
            "grid_gap": null,
            "max_width": null,
            "order": null,
            "_view_module_version": "1.2.0",
            "grid_template_areas": null,
            "object_position": null,
            "object_fit": null,
            "grid_auto_columns": null,
            "margin": null,
            "display": null,
            "left": null
          }
        },
        "884f9ea894c0409d8db5b2a9c14c3d2f": {
          "model_module": "@jupyter-widgets/controls",
          "model_name": "DescriptionStyleModel",
          "state": {
            "_view_name": "StyleView",
            "_model_name": "DescriptionStyleModel",
            "description_width": "",
            "_view_module": "@jupyter-widgets/base",
            "_model_module_version": "1.5.0",
            "_view_count": null,
            "_view_module_version": "1.2.0",
            "_model_module": "@jupyter-widgets/controls"
          }
        },
        "9f5bc3eb39c54ef4a9a592c3f11f6009": {
          "model_module": "@jupyter-widgets/base",
          "model_name": "LayoutModel",
          "state": {
            "_view_name": "LayoutView",
            "grid_template_rows": null,
            "right": null,
            "justify_content": null,
            "_view_module": "@jupyter-widgets/base",
            "overflow": null,
            "_model_module_version": "1.2.0",
            "_view_count": null,
            "flex_flow": null,
            "width": null,
            "min_width": null,
            "border": null,
            "align_items": null,
            "bottom": null,
            "_model_module": "@jupyter-widgets/base",
            "top": null,
            "grid_column": null,
            "overflow_y": null,
            "overflow_x": null,
            "grid_auto_flow": null,
            "grid_area": null,
            "grid_template_columns": null,
            "flex": null,
            "_model_name": "LayoutModel",
            "justify_items": null,
            "grid_row": null,
            "max_height": null,
            "align_content": null,
            "visibility": null,
            "align_self": null,
            "height": null,
            "min_height": null,
            "padding": null,
            "grid_auto_rows": null,
            "grid_gap": null,
            "max_width": null,
            "order": null,
            "_view_module_version": "1.2.0",
            "grid_template_areas": null,
            "object_position": null,
            "object_fit": null,
            "grid_auto_columns": null,
            "margin": null,
            "display": null,
            "left": null
          }
        },
        "67cc985e0c7c457ba430f4f8c2f9328f": {
          "model_module": "@jupyter-widgets/controls",
          "model_name": "HBoxModel",
          "state": {
            "_view_name": "HBoxView",
            "_dom_classes": [],
            "_model_name": "HBoxModel",
            "_view_module": "@jupyter-widgets/controls",
            "_model_module_version": "1.5.0",
            "_view_count": null,
            "_view_module_version": "1.5.0",
            "box_style": "",
            "layout": "IPY_MODEL_a22bbd1c934e4d55baf5d2b9e81cd35e",
            "_model_module": "@jupyter-widgets/controls",
            "children": [
              "IPY_MODEL_160fd26252ea4bbc8b2215b978e6400a",
              "IPY_MODEL_326565af09394b8f8a3f53a08599df93"
            ]
          }
        },
        "a22bbd1c934e4d55baf5d2b9e81cd35e": {
          "model_module": "@jupyter-widgets/base",
          "model_name": "LayoutModel",
          "state": {
            "_view_name": "LayoutView",
            "grid_template_rows": null,
            "right": null,
            "justify_content": null,
            "_view_module": "@jupyter-widgets/base",
            "overflow": null,
            "_model_module_version": "1.2.0",
            "_view_count": null,
            "flex_flow": null,
            "width": null,
            "min_width": null,
            "border": null,
            "align_items": null,
            "bottom": null,
            "_model_module": "@jupyter-widgets/base",
            "top": null,
            "grid_column": null,
            "overflow_y": null,
            "overflow_x": null,
            "grid_auto_flow": null,
            "grid_area": null,
            "grid_template_columns": null,
            "flex": null,
            "_model_name": "LayoutModel",
            "justify_items": null,
            "grid_row": null,
            "max_height": null,
            "align_content": null,
            "visibility": null,
            "align_self": null,
            "height": null,
            "min_height": null,
            "padding": null,
            "grid_auto_rows": null,
            "grid_gap": null,
            "max_width": null,
            "order": null,
            "_view_module_version": "1.2.0",
            "grid_template_areas": null,
            "object_position": null,
            "object_fit": null,
            "grid_auto_columns": null,
            "margin": null,
            "display": null,
            "left": null
          }
        },
        "160fd26252ea4bbc8b2215b978e6400a": {
          "model_module": "@jupyter-widgets/controls",
          "model_name": "FloatProgressModel",
          "state": {
            "_view_name": "ProgressView",
            "style": "IPY_MODEL_911ecefd92ba4f10baf84496cca13be1",
            "_dom_classes": [],
            "description": "100%",
            "_model_name": "FloatProgressModel",
            "bar_style": "success",
            "max": 15000,
            "_view_module": "@jupyter-widgets/controls",
            "_model_module_version": "1.5.0",
            "value": 15000,
            "_view_count": null,
            "_view_module_version": "1.5.0",
            "orientation": "horizontal",
            "min": 0,
            "description_tooltip": null,
            "_model_module": "@jupyter-widgets/controls",
            "layout": "IPY_MODEL_945e216138d64331b754b7bfc3f26110"
          }
        },
        "326565af09394b8f8a3f53a08599df93": {
          "model_module": "@jupyter-widgets/controls",
          "model_name": "HTMLModel",
          "state": {
            "_view_name": "HTMLView",
            "style": "IPY_MODEL_2c912acacf604d02b8ee140d3ece4263",
            "_dom_classes": [],
            "description": "",
            "_model_name": "HTMLModel",
            "placeholder": "​",
            "_view_module": "@jupyter-widgets/controls",
            "_model_module_version": "1.5.0",
            "value": " 15000/15000 [00:03&lt;00:00, 4319.27it/s]",
            "_view_count": null,
            "_view_module_version": "1.5.0",
            "description_tooltip": null,
            "_model_module": "@jupyter-widgets/controls",
            "layout": "IPY_MODEL_7d94d72208104799baac4111bc493c89"
          }
        },
        "911ecefd92ba4f10baf84496cca13be1": {
          "model_module": "@jupyter-widgets/controls",
          "model_name": "ProgressStyleModel",
          "state": {
            "_view_name": "StyleView",
            "_model_name": "ProgressStyleModel",
            "description_width": "initial",
            "_view_module": "@jupyter-widgets/base",
            "_model_module_version": "1.5.0",
            "_view_count": null,
            "_view_module_version": "1.2.0",
            "bar_color": null,
            "_model_module": "@jupyter-widgets/controls"
          }
        },
        "945e216138d64331b754b7bfc3f26110": {
          "model_module": "@jupyter-widgets/base",
          "model_name": "LayoutModel",
          "state": {
            "_view_name": "LayoutView",
            "grid_template_rows": null,
            "right": null,
            "justify_content": null,
            "_view_module": "@jupyter-widgets/base",
            "overflow": null,
            "_model_module_version": "1.2.0",
            "_view_count": null,
            "flex_flow": null,
            "width": null,
            "min_width": null,
            "border": null,
            "align_items": null,
            "bottom": null,
            "_model_module": "@jupyter-widgets/base",
            "top": null,
            "grid_column": null,
            "overflow_y": null,
            "overflow_x": null,
            "grid_auto_flow": null,
            "grid_area": null,
            "grid_template_columns": null,
            "flex": null,
            "_model_name": "LayoutModel",
            "justify_items": null,
            "grid_row": null,
            "max_height": null,
            "align_content": null,
            "visibility": null,
            "align_self": null,
            "height": null,
            "min_height": null,
            "padding": null,
            "grid_auto_rows": null,
            "grid_gap": null,
            "max_width": null,
            "order": null,
            "_view_module_version": "1.2.0",
            "grid_template_areas": null,
            "object_position": null,
            "object_fit": null,
            "grid_auto_columns": null,
            "margin": null,
            "display": null,
            "left": null
          }
        },
        "2c912acacf604d02b8ee140d3ece4263": {
          "model_module": "@jupyter-widgets/controls",
          "model_name": "DescriptionStyleModel",
          "state": {
            "_view_name": "StyleView",
            "_model_name": "DescriptionStyleModel",
            "description_width": "",
            "_view_module": "@jupyter-widgets/base",
            "_model_module_version": "1.5.0",
            "_view_count": null,
            "_view_module_version": "1.2.0",
            "_model_module": "@jupyter-widgets/controls"
          }
        },
        "7d94d72208104799baac4111bc493c89": {
          "model_module": "@jupyter-widgets/base",
          "model_name": "LayoutModel",
          "state": {
            "_view_name": "LayoutView",
            "grid_template_rows": null,
            "right": null,
            "justify_content": null,
            "_view_module": "@jupyter-widgets/base",
            "overflow": null,
            "_model_module_version": "1.2.0",
            "_view_count": null,
            "flex_flow": null,
            "width": null,
            "min_width": null,
            "border": null,
            "align_items": null,
            "bottom": null,
            "_model_module": "@jupyter-widgets/base",
            "top": null,
            "grid_column": null,
            "overflow_y": null,
            "overflow_x": null,
            "grid_auto_flow": null,
            "grid_area": null,
            "grid_template_columns": null,
            "flex": null,
            "_model_name": "LayoutModel",
            "justify_items": null,
            "grid_row": null,
            "max_height": null,
            "align_content": null,
            "visibility": null,
            "align_self": null,
            "height": null,
            "min_height": null,
            "padding": null,
            "grid_auto_rows": null,
            "grid_gap": null,
            "max_width": null,
            "order": null,
            "_view_module_version": "1.2.0",
            "grid_template_areas": null,
            "object_position": null,
            "object_fit": null,
            "grid_auto_columns": null,
            "margin": null,
            "display": null,
            "left": null
          }
        },
        "2c00fb57018248c3befa6bd569345413": {
          "model_module": "@jupyter-widgets/controls",
          "model_name": "HBoxModel",
          "state": {
            "_view_name": "HBoxView",
            "_dom_classes": [],
            "_model_name": "HBoxModel",
            "_view_module": "@jupyter-widgets/controls",
            "_model_module_version": "1.5.0",
            "_view_count": null,
            "_view_module_version": "1.5.0",
            "box_style": "",
            "layout": "IPY_MODEL_e8f94cc1cdbc48748f6439a895268303",
            "_model_module": "@jupyter-widgets/controls",
            "children": [
              "IPY_MODEL_55ba6612556c4b8f9e02947b77da951d",
              "IPY_MODEL_b71ccff1d1c14e9f8aadcec09c0429eb"
            ]
          }
        },
        "e8f94cc1cdbc48748f6439a895268303": {
          "model_module": "@jupyter-widgets/base",
          "model_name": "LayoutModel",
          "state": {
            "_view_name": "LayoutView",
            "grid_template_rows": null,
            "right": null,
            "justify_content": null,
            "_view_module": "@jupyter-widgets/base",
            "overflow": null,
            "_model_module_version": "1.2.0",
            "_view_count": null,
            "flex_flow": null,
            "width": null,
            "min_width": null,
            "border": null,
            "align_items": null,
            "bottom": null,
            "_model_module": "@jupyter-widgets/base",
            "top": null,
            "grid_column": null,
            "overflow_y": null,
            "overflow_x": null,
            "grid_auto_flow": null,
            "grid_area": null,
            "grid_template_columns": null,
            "flex": null,
            "_model_name": "LayoutModel",
            "justify_items": null,
            "grid_row": null,
            "max_height": null,
            "align_content": null,
            "visibility": null,
            "align_self": null,
            "height": null,
            "min_height": null,
            "padding": null,
            "grid_auto_rows": null,
            "grid_gap": null,
            "max_width": null,
            "order": null,
            "_view_module_version": "1.2.0",
            "grid_template_areas": null,
            "object_position": null,
            "object_fit": null,
            "grid_auto_columns": null,
            "margin": null,
            "display": null,
            "left": null
          }
        },
        "55ba6612556c4b8f9e02947b77da951d": {
          "model_module": "@jupyter-widgets/controls",
          "model_name": "FloatProgressModel",
          "state": {
            "_view_name": "ProgressView",
            "style": "IPY_MODEL_86c8f2be3c564b14a3af675e0cfba561",
            "_dom_classes": [],
            "description": "100%",
            "_model_name": "FloatProgressModel",
            "bar_style": "success",
            "max": 3000,
            "_view_module": "@jupyter-widgets/controls",
            "_model_module_version": "1.5.0",
            "value": 3000,
            "_view_count": null,
            "_view_module_version": "1.5.0",
            "orientation": "horizontal",
            "min": 0,
            "description_tooltip": null,
            "_model_module": "@jupyter-widgets/controls",
            "layout": "IPY_MODEL_5d6b32353b73469087a563fef8c50541"
          }
        },
        "b71ccff1d1c14e9f8aadcec09c0429eb": {
          "model_module": "@jupyter-widgets/controls",
          "model_name": "HTMLModel",
          "state": {
            "_view_name": "HTMLView",
            "style": "IPY_MODEL_b623c9ed54de4f98a016c51d5ed8864e",
            "_dom_classes": [],
            "description": "",
            "_model_name": "HTMLModel",
            "placeholder": "​",
            "_view_module": "@jupyter-widgets/controls",
            "_model_module_version": "1.5.0",
            "value": " 3000/3000 [00:01&lt;00:00, 1544.37it/s]",
            "_view_count": null,
            "_view_module_version": "1.5.0",
            "description_tooltip": null,
            "_model_module": "@jupyter-widgets/controls",
            "layout": "IPY_MODEL_9684c7bb4c204cc8abaa51d83e46e33d"
          }
        },
        "86c8f2be3c564b14a3af675e0cfba561": {
          "model_module": "@jupyter-widgets/controls",
          "model_name": "ProgressStyleModel",
          "state": {
            "_view_name": "StyleView",
            "_model_name": "ProgressStyleModel",
            "description_width": "initial",
            "_view_module": "@jupyter-widgets/base",
            "_model_module_version": "1.5.0",
            "_view_count": null,
            "_view_module_version": "1.2.0",
            "bar_color": null,
            "_model_module": "@jupyter-widgets/controls"
          }
        },
        "5d6b32353b73469087a563fef8c50541": {
          "model_module": "@jupyter-widgets/base",
          "model_name": "LayoutModel",
          "state": {
            "_view_name": "LayoutView",
            "grid_template_rows": null,
            "right": null,
            "justify_content": null,
            "_view_module": "@jupyter-widgets/base",
            "overflow": null,
            "_model_module_version": "1.2.0",
            "_view_count": null,
            "flex_flow": null,
            "width": null,
            "min_width": null,
            "border": null,
            "align_items": null,
            "bottom": null,
            "_model_module": "@jupyter-widgets/base",
            "top": null,
            "grid_column": null,
            "overflow_y": null,
            "overflow_x": null,
            "grid_auto_flow": null,
            "grid_area": null,
            "grid_template_columns": null,
            "flex": null,
            "_model_name": "LayoutModel",
            "justify_items": null,
            "grid_row": null,
            "max_height": null,
            "align_content": null,
            "visibility": null,
            "align_self": null,
            "height": null,
            "min_height": null,
            "padding": null,
            "grid_auto_rows": null,
            "grid_gap": null,
            "max_width": null,
            "order": null,
            "_view_module_version": "1.2.0",
            "grid_template_areas": null,
            "object_position": null,
            "object_fit": null,
            "grid_auto_columns": null,
            "margin": null,
            "display": null,
            "left": null
          }
        },
        "b623c9ed54de4f98a016c51d5ed8864e": {
          "model_module": "@jupyter-widgets/controls",
          "model_name": "DescriptionStyleModel",
          "state": {
            "_view_name": "StyleView",
            "_model_name": "DescriptionStyleModel",
            "description_width": "",
            "_view_module": "@jupyter-widgets/base",
            "_model_module_version": "1.5.0",
            "_view_count": null,
            "_view_module_version": "1.2.0",
            "_model_module": "@jupyter-widgets/controls"
          }
        },
        "9684c7bb4c204cc8abaa51d83e46e33d": {
          "model_module": "@jupyter-widgets/base",
          "model_name": "LayoutModel",
          "state": {
            "_view_name": "LayoutView",
            "grid_template_rows": null,
            "right": null,
            "justify_content": null,
            "_view_module": "@jupyter-widgets/base",
            "overflow": null,
            "_model_module_version": "1.2.0",
            "_view_count": null,
            "flex_flow": null,
            "width": null,
            "min_width": null,
            "border": null,
            "align_items": null,
            "bottom": null,
            "_model_module": "@jupyter-widgets/base",
            "top": null,
            "grid_column": null,
            "overflow_y": null,
            "overflow_x": null,
            "grid_auto_flow": null,
            "grid_area": null,
            "grid_template_columns": null,
            "flex": null,
            "_model_name": "LayoutModel",
            "justify_items": null,
            "grid_row": null,
            "max_height": null,
            "align_content": null,
            "visibility": null,
            "align_self": null,
            "height": null,
            "min_height": null,
            "padding": null,
            "grid_auto_rows": null,
            "grid_gap": null,
            "max_width": null,
            "order": null,
            "_view_module_version": "1.2.0",
            "grid_template_areas": null,
            "object_position": null,
            "object_fit": null,
            "grid_auto_columns": null,
            "margin": null,
            "display": null,
            "left": null
          }
        }
      }
    }
  },
  "cells": [
    {
      "cell_type": "markdown",
      "metadata": {
        "id": "Cb39TUG1XOO4"
      },
      "source": [
        "## Данные\n",
        "\n",
        "Данные в [архиве](https://drive.google.com/file/d/15o7fdxTgndoy6K-e7g8g1M2-bOOwqZPl/view?usp=sharing). В нём два файла:\n",
        "- `news_train.txt` тренировочное множество\n",
        "- `news_test.txt` тренировочное множество\n",
        "\n",
        "С некоторых новостных сайтов были загружены тексты новостей за период  несколько лет, причем каждая новость принаделжит к какой-то рубрике: `science`, `style`, `culture`, `life`, `economics`, `business`, `travel`, `forces`, `media`, `sport`.\n",
        "\n",
        "В каждой строке файла содержится метка рубрики, заголовок новостной статьи и сам текст статьи, например:\n",
        "\n",
        ">    **sport**&nbsp;&lt;tab&gt;&nbsp;**Сборная Канады по хоккею разгромила чехов**&nbsp;&lt;tab&gt;&nbsp;**Сборная Канады по хоккею крупно об...**"
      ]
    },
    {
      "cell_type": "markdown",
      "metadata": {
        "id": "LeXYIUGoXOO_"
      },
      "source": [
        "# Задача\n",
        "\n",
        "1. Обработать данные, получив для каждого текста набор токенов\n",
        "Обработать токены с помощью (один вариант из трех):\n",
        "    - pymorphy2\n",
        "    - русского [snowball стеммера](https://www.nltk.org/howto/stem.html)\n",
        "    - [SentencePiece](https://github.com/google/sentencepiece) или [Huggingface Tokenizers](https://github.com/huggingface/tokenizers)\n",
        "    \n",
        "    \n",
        "2. Обучить word embeddings (fastText, word2vec, gloVe) на тренировочных данных. Можно использовать [gensim](https://radimrehurek.com/gensim/models/word2vec.html) . Продемонстрировать семантические ассоциации. \n",
        "\n",
        "3. Реализовать алгоритм классификации, посчитать точноть на тестовых данных, подобрать гиперпараметры. Метод векторизации выбрать произвольно - можно использовать $tf-idf$ с понижением размерности (см. scikit-learn), можно использовать обученные на предыдущем шаге векторные представления, можно использовать [предобученные модели](https://rusvectores.org/ru/models/). Имейте ввиду, что простое \"усреднение\" токенов в тексте скорее всего не даст положительных результатов. Нужно реализовать два алгоритмов из трех:\n",
        "     - SVM\n",
        "     - наивный байесовский классификатор\n",
        "     - логистическая регрессия\n",
        "    \n",
        "\n",
        "4.* Реализуйте классификацию с помощью нейросетевых моделей. Например [RuBERT](http://docs.deeppavlov.ai/en/master/features/models/bert.html) или [ELMo](https://rusvectores.org/ru/models/)."
      ]
    },
    {
      "cell_type": "code",
      "metadata": {
        "id": "HA3XyiS4ka79"
      },
      "source": [
        "import numpy as np\r\n",
        "from tqdm.notebook import tqdm\r\n",
        "import re"
      ],
      "execution_count": 1,
      "outputs": []
    },
    {
      "cell_type": "markdown",
      "metadata": {
        "id": "XouMcbv1kk-i"
      },
      "source": [
        "1. Обработать данные, получив для каждого текста набор токенов\r\n",
        "Обработать токены с помощью (один вариант из трех):\r\n",
        "    - pymorphy2\r\n",
        "    - русского [snowball стеммера](https://www.nltk.org/howto/stem.html)\r\n",
        "    - [SentencePiece](https://github.com/google/sentencepiece) или [Huggingface Tokenizers](https://github.com/huggingface/tokenizers)"
      ]
    },
    {
      "cell_type": "code",
      "metadata": {
        "id": "b1IZJBw0kuQK"
      },
      "source": [
        "def tokenize_text(text):\r\n",
        "    text = text.lower()\r\n",
        "    words = re.findall(r'\\b\\w+\\b', text.lower())\r\n",
        "    return words"
      ],
      "execution_count": 2,
      "outputs": []
    },
    {
      "cell_type": "code",
      "metadata": {
        "id": "8Jj5C85TqbVf"
      },
      "source": [
        "raw_train = []\r\n",
        "\r\n",
        "\r\n",
        "with open('news_train.txt', 'r') as f:\r\n",
        "  for line in f:\r\n",
        "    label, title, text = line.strip().split(\"\\t\")\r\n",
        "    raw_train.append((label, title, text))\r\n",
        "\r\n",
        "data_train = []\r\n",
        "for label, title, text in raw_train:\r\n",
        "  item = {}\r\n",
        "  item['label'] = label\r\n",
        "  item['title'] = tokenize_text(title)\r\n",
        "  item['text'] = [tokenize_text(sentance) for sentance in re.split(r\"[.!?]\", text) if len(sentance) > 10]\r\n",
        "  data_train.append(item)"
      ],
      "execution_count": 3,
      "outputs": []
    },
    {
      "cell_type": "code",
      "metadata": {
        "colab": {
          "base_uri": "https://localhost:8080/"
        },
        "id": "4-mqybx_uCd0",
        "outputId": "9718a2a3-7b2e-4ff1-d41f-b255785fccdf"
      },
      "source": [
        "len(data_train), data_train[0]"
      ],
      "execution_count": 4,
      "outputs": [
        {
          "output_type": "execute_result",
          "data": {
            "text/plain": [
              "(15000,\n",
              " {'label': 'sport',\n",
              "  'text': [['нападающий',\n",
              "    'вашингтон',\n",
              "    'кэпиталз',\n",
              "    'александр',\n",
              "    'овечкин',\n",
              "    'передал',\n",
              "    'детской',\n",
              "    'хоккейной',\n",
              "    'школе',\n",
              "    'автомобиль',\n",
              "    'полученный',\n",
              "    'им',\n",
              "    'после',\n",
              "    'окончания',\n",
              "    'матча',\n",
              "    'всех',\n",
              "    'звезд',\n",
              "    'национальной',\n",
              "    'хоккейной',\n",
              "    'лиги',\n",
              "    'нхл'],\n",
              "   ['об', 'этом', 'сообщается', 'на', 'официальном', 'сайте', 'лиги'],\n",
              "   ['автомобиль',\n",
              "    'honda',\n",
              "    'accord',\n",
              "    'был',\n",
              "    'подарен',\n",
              "    'хоккеисту',\n",
              "    'по',\n",
              "    'решению',\n",
              "    'спонсоров',\n",
              "    'мероприятия'],\n",
              "   ['игрок',\n",
              "    'нхл',\n",
              "    'пожертвовал',\n",
              "    'машину',\n",
              "    'спортивной',\n",
              "    'школе',\n",
              "    'nova',\n",
              "    'cool',\n",
              "    'cats',\n",
              "    'special',\n",
              "    'hockey',\n",
              "    'inc'],\n",
              "   ['которая', 'расположена', 'в', 'штате', 'вирджиния'],\n",
              "   ['овечкин',\n",
              "    'общается',\n",
              "    'с',\n",
              "    '10',\n",
              "    'летней',\n",
              "    'девочкой',\n",
              "    'анной',\n",
              "    'шоб',\n",
              "    'с',\n",
              "    'синдромом',\n",
              "    'дауна',\n",
              "    'которая',\n",
              "    'занимается',\n",
              "    'в',\n",
              "    'этой',\n",
              "    'школе',\n",
              "    'и',\n",
              "    'является',\n",
              "    'поклонницей',\n",
              "    'спортсмена'],\n",
              "   ['в',\n",
              "    'сентябре',\n",
              "    'форвард',\n",
              "    'пообедал',\n",
              "    'вместе',\n",
              "    'с',\n",
              "    'юной',\n",
              "    'хоккеисткой',\n",
              "    'в',\n",
              "    'японском',\n",
              "    'ресторане'],\n",
              "   ['матч',\n",
              "    'всех',\n",
              "    'звезд',\n",
              "    'нхл',\n",
              "    'в',\n",
              "    'коламбусе',\n",
              "    'штат',\n",
              "    'огайо',\n",
              "    'завершился',\n",
              "    'победой',\n",
              "    'команды',\n",
              "    'джонатана',\n",
              "    'тэйвза',\n",
              "    'над',\n",
              "    'командой',\n",
              "    'ника',\n",
              "    'фолиньо',\n",
              "    'со',\n",
              "    'счетом',\n",
              "    '17',\n",
              "    '12'],\n",
              "   ['овечкин', 'выступал', 'за', 'проигравший', 'коллектив'],\n",
              "   ['россиянин', 'отметился', 'тремя', 'результативными', 'передачами']],\n",
              "  'title': ['овечкин',\n",
              "   'пожертвовал',\n",
              "   'детской',\n",
              "   'хоккейной',\n",
              "   'школе',\n",
              "   'автомобиль']})"
            ]
          },
          "metadata": {
            "tags": []
          },
          "execution_count": 4
        }
      ]
    },
    {
      "cell_type": "code",
      "metadata": {
        "id": "1rR552_bqc-M"
      },
      "source": [
        "raw_test = []\r\n",
        "\r\n",
        "\r\n",
        "with open('news_test.txt', 'r') as f:\r\n",
        "  for line in f:\r\n",
        "    label, title, text = line.strip().split(\"\\t\")\r\n",
        "    raw_test.append((label, title, text))\r\n",
        "\r\n",
        "data_test = []\r\n",
        "for label, title, text in raw_test:\r\n",
        "  item = {}\r\n",
        "  item['label'] = label\r\n",
        "  item['title'] = tokenize_text(title)\r\n",
        "  item['text'] = [tokenize_text(sentance) for sentance in re.split(r\"[.!?]\", text) if len(sentance) > 10]\r\n",
        "  data_test.append(item)"
      ],
      "execution_count": 5,
      "outputs": []
    },
    {
      "cell_type": "code",
      "metadata": {
        "colab": {
          "base_uri": "https://localhost:8080/"
        },
        "id": "ll4ibRxFuM61",
        "outputId": "fc98934d-6792-481d-8af2-7a0f63569bb5"
      },
      "source": [
        "len(data_test), data_test[0]"
      ],
      "execution_count": 6,
      "outputs": [
        {
          "output_type": "execute_result",
          "data": {
            "text/plain": [
              "(3000,\n",
              " {'label': 'culture',\n",
              "  'text': [['жительница',\n",
              "    'ямало',\n",
              "    'ненецкого',\n",
              "    'автономного',\n",
              "    'округа',\n",
              "    'елена',\n",
              "    'лаптандер',\n",
              "    'победила',\n",
              "    'в',\n",
              "    'первом',\n",
              "    'всероссийском',\n",
              "    'песенном',\n",
              "    'конкурсе',\n",
              "    'новая',\n",
              "    'звезда',\n",
              "    'сообщили',\n",
              "    'ленте'],\n",
              "   ['ру', 'организаторы', 'события'],\n",
              "   ['в',\n",
              "    'качестве',\n",
              "    'награды',\n",
              "    'ей',\n",
              "    'досталась',\n",
              "    'статуэтка',\n",
              "    'в',\n",
              "    'форме',\n",
              "    'звезды',\n",
              "    'и',\n",
              "    'денежный',\n",
              "    'приз',\n",
              "    'один',\n",
              "    'миллион',\n",
              "    'рублей'],\n",
              "   ['по',\n",
              "    'словам',\n",
              "    'финалистки',\n",
              "    'вознаграждение',\n",
              "    'она',\n",
              "    'планирует',\n",
              "    'передать',\n",
              "    'в',\n",
              "    'благотворительный',\n",
              "    'фонд',\n",
              "    'подари',\n",
              "    'жизнь'],\n",
              "   ['три',\n",
              "    'дополнительных',\n",
              "    'приза',\n",
              "    'достались',\n",
              "    'руслану',\n",
              "    'ивакину',\n",
              "    'из',\n",
              "    'хакасии',\n",
              "    'фолк',\n",
              "    'группе',\n",
              "    'ярилов',\n",
              "    'зной',\n",
              "    'из',\n",
              "    'воронежской',\n",
              "    'области',\n",
              "    'и',\n",
              "    'александру',\n",
              "    'куулару',\n",
              "    'из',\n",
              "    'тывы'],\n",
              "   ['призеров',\n",
              "    'с',\n",
              "    'помощью',\n",
              "    'смс',\n",
              "    'голосования',\n",
              "    'выбирали',\n",
              "    'зрители',\n",
              "    'телеканала',\n",
              "    'звезда',\n",
              "    'который',\n",
              "    'транслировал',\n",
              "    'конкурс'],\n",
              "   ['всего',\n",
              "    'на',\n",
              "    'финальном',\n",
              "    'гала',\n",
              "    'концерте',\n",
              "    'выступили',\n",
              "    '16',\n",
              "    'участников'],\n",
              "   ['ведущими', 'шоу', 'стали', 'актеры', 'сергей', 'безруков', 'и', 'аврора'],\n",
              "   ['на',\n",
              "    'концерте',\n",
              "    'прозвучали',\n",
              "    'популярные',\n",
              "    'песни',\n",
              "    'военных',\n",
              "    'лет',\n",
              "    'журавли',\n",
              "    'довоенный',\n",
              "    'вальс',\n",
              "    'мой',\n",
              "    'милый',\n",
              "    'если',\n",
              "    'б',\n",
              "    'не',\n",
              "    'было',\n",
              "    'войны',\n",
              "    'цветы',\n",
              "    'на',\n",
              "    'дорогах',\n",
              "    'войны',\n",
              "    'песня',\n",
              "    'десантно',\n",
              "    'штурмового',\n",
              "    'батальона',\n",
              "    'из',\n",
              "    'кинофильма',\n",
              "    'белорусский',\n",
              "    'вокзал',\n",
              "    'и',\n",
              "    'другие'],\n",
              "   ['на',\n",
              "    'этом',\n",
              "    'конкурсе',\n",
              "    'произошел',\n",
              "    'прорыв',\n",
              "    'наступление',\n",
              "    'фольклора'],\n",
              "   ['настоящая', 'этника'],\n",
              "   ['отметил',\n",
              "    'композитор',\n",
              "    'максим',\n",
              "    'дунаевский',\n",
              "    'тоже',\n",
              "    'принявший',\n",
              "    'участие',\n",
              "    'в',\n",
              "    'гала',\n",
              "    'концерте'],\n",
              "   ['всероссийский',\n",
              "    'конкурс',\n",
              "    'исполнителей',\n",
              "    'песни',\n",
              "    'новая',\n",
              "    'звезда',\n",
              "    'проходит',\n",
              "    'при',\n",
              "    'поддержке',\n",
              "    'министерства',\n",
              "    'обороны',\n",
              "    'россии'],\n",
              "   ['его', 'идея', 'принадлежит', 'главе', 'ведомства', 'сергею', 'шойгу'],\n",
              "   ['благодаря',\n",
              "    'этому',\n",
              "    'проекту',\n",
              "    'мы',\n",
              "    'услышали',\n",
              "    'не',\n",
              "    'ту',\n",
              "    'синтетику',\n",
              "    'которую',\n",
              "    'сейчас',\n",
              "    'поголовно',\n",
              "    'поет',\n",
              "    'молодежь',\n",
              "    'а',\n",
              "    'хорошие',\n",
              "    'голоса',\n",
              "    'и',\n",
              "    'настоящую',\n",
              "    'музыку'],\n",
              "   ['надеюсь',\n",
              "    'зрители',\n",
              "    'по',\n",
              "    'достоинству',\n",
              "    'оценят',\n",
              "    'того',\n",
              "    'певца',\n",
              "    'который',\n",
              "    'будет',\n",
              "    'для',\n",
              "    'страны',\n",
              "    'новой',\n",
              "    'звездой',\n",
              "    'прокомментировал',\n",
              "    'шойгу'],\n",
              "   ['мероприятие', 'планируется', 'проводить', 'ежегодно']],\n",
              "  'title': ['жительница',\n",
              "   'ямала',\n",
              "   'победила',\n",
              "   'в',\n",
              "   'первом',\n",
              "   'песенном',\n",
              "   'конкурсе',\n",
              "   'новая',\n",
              "   'звезда']})"
            ]
          },
          "metadata": {
            "tags": []
          },
          "execution_count": 6
        }
      ]
    },
    {
      "cell_type": "code",
      "metadata": {
        "colab": {
          "base_uri": "https://localhost:8080/",
          "height": 115,
          "referenced_widgets": [
            "cae47fc9a8fd4d24b020ad3ab14f4520",
            "a900f79f872b4668bad86555de7401f0",
            "4a3aff92997b4f96acbbe4766840412e",
            "6c29448a9c4546b2bb4df2fd74c55bec",
            "5db9deef1ea04ddbb0f8fb745611db84",
            "e4a3b46b4487473e89f07f3bac91e81d",
            "12b88942b87e406986f262cc653e9bc2",
            "3b34a53060914fcdb6466fd6c4321808",
            "361f7444a9504895a6461d5f795e056f",
            "440b8b9e9faf49278f9955ca92f4693d",
            "5786876c57314bdd9aed521fecae9eec",
            "d66578f7d70c48159313d93041fbe7d6",
            "f8bdd7bc7db54fd1bf7a06945142e5b7",
            "b5f1b4c2c139465e8bf78f0a60f751f7",
            "884f9ea894c0409d8db5b2a9c14c3d2f",
            "9f5bc3eb39c54ef4a9a592c3f11f6009"
          ]
        },
        "id": "UmXZfcQ4rXX2",
        "outputId": "edcd7b4a-ff83-4c74-a6f4-7e71719ac180"
      },
      "source": [
        "from nltk.stem.snowball import SnowballStemmer\r\n",
        "\r\n",
        "stemmer = SnowballStemmer('russian')\r\n",
        "\r\n",
        "for item in tqdm(data_test):\r\n",
        "  item['title'] = [stemmer.stem(word) for word in item['title']] \r\n",
        "  item['text'] = [[stemmer.stem(word) for word in sentance] for sentance in item['text']]\r\n",
        "\r\n",
        "for item in tqdm(data_train):\r\n",
        "  item['title'] = [stemmer.stem(word) for word in item['title']] \r\n",
        "  item['text'] = [[stemmer.stem(word) for word in sentance] for sentance in item['text']]"
      ],
      "execution_count": 7,
      "outputs": [
        {
          "output_type": "display_data",
          "data": {
            "application/vnd.jupyter.widget-view+json": {
              "model_id": "cae47fc9a8fd4d24b020ad3ab14f4520",
              "version_minor": 0,
              "version_major": 2
            },
            "text/plain": [
              "HBox(children=(FloatProgress(value=0.0, max=3000.0), HTML(value='')))"
            ]
          },
          "metadata": {
            "tags": []
          }
        },
        {
          "output_type": "stream",
          "text": [
            "\n"
          ],
          "name": "stdout"
        },
        {
          "output_type": "display_data",
          "data": {
            "application/vnd.jupyter.widget-view+json": {
              "model_id": "361f7444a9504895a6461d5f795e056f",
              "version_minor": 0,
              "version_major": 2
            },
            "text/plain": [
              "HBox(children=(FloatProgress(value=0.0, max=15000.0), HTML(value='')))"
            ]
          },
          "metadata": {
            "tags": []
          }
        },
        {
          "output_type": "stream",
          "text": [
            "\n"
          ],
          "name": "stdout"
        }
      ]
    },
    {
      "cell_type": "code",
      "metadata": {
        "colab": {
          "base_uri": "https://localhost:8080/"
        },
        "id": "HtFcwGQZtyyf",
        "outputId": "fd8d7598-19f5-4cd3-933f-5a009d43069c"
      },
      "source": [
        "data_test[0]"
      ],
      "execution_count": 8,
      "outputs": [
        {
          "output_type": "execute_result",
          "data": {
            "text/plain": [
              "{'label': 'culture',\n",
              " 'text': [['жительниц',\n",
              "   'яма',\n",
              "   'ненецк',\n",
              "   'автономн',\n",
              "   'округ',\n",
              "   'ел',\n",
              "   'лаптандер',\n",
              "   'побед',\n",
              "   'в',\n",
              "   'перв',\n",
              "   'всероссийск',\n",
              "   'песен',\n",
              "   'конкурс',\n",
              "   'нов',\n",
              "   'звезд',\n",
              "   'сообщ',\n",
              "   'лент'],\n",
              "  ['ру', 'организатор', 'событ'],\n",
              "  ['в',\n",
              "   'качеств',\n",
              "   'наград',\n",
              "   'е',\n",
              "   'доста',\n",
              "   'статуэтк',\n",
              "   'в',\n",
              "   'форм',\n",
              "   'звезд',\n",
              "   'и',\n",
              "   'денежн',\n",
              "   'приз',\n",
              "   'один',\n",
              "   'миллион',\n",
              "   'рубл'],\n",
              "  ['по',\n",
              "   'слов',\n",
              "   'финалистк',\n",
              "   'вознагражден',\n",
              "   'он',\n",
              "   'планир',\n",
              "   'переда',\n",
              "   'в',\n",
              "   'благотворительн',\n",
              "   'фонд',\n",
              "   'подар',\n",
              "   'жизн'],\n",
              "  ['три',\n",
              "   'дополнительн',\n",
              "   'приз',\n",
              "   'доста',\n",
              "   'руслан',\n",
              "   'ивакин',\n",
              "   'из',\n",
              "   'хакас',\n",
              "   'фолк',\n",
              "   'групп',\n",
              "   'ярил',\n",
              "   'зно',\n",
              "   'из',\n",
              "   'воронежск',\n",
              "   'област',\n",
              "   'и',\n",
              "   'александр',\n",
              "   'куулар',\n",
              "   'из',\n",
              "   'тыв'],\n",
              "  ['призер',\n",
              "   'с',\n",
              "   'помощ',\n",
              "   'смс',\n",
              "   'голосован',\n",
              "   'выбира',\n",
              "   'зрител',\n",
              "   'телекана',\n",
              "   'звезд',\n",
              "   'котор',\n",
              "   'транслирова',\n",
              "   'конкурс'],\n",
              "  ['всег', 'на', 'финальн', 'гал', 'концерт', 'выступ', '16', 'участник'],\n",
              "  ['ведущ', 'шо', 'стал', 'актер', 'серг', 'безрук', 'и', 'аврор'],\n",
              "  ['на',\n",
              "   'концерт',\n",
              "   'прозвуча',\n",
              "   'популярн',\n",
              "   'песн',\n",
              "   'воен',\n",
              "   'лет',\n",
              "   'журавл',\n",
              "   'довоен',\n",
              "   'вальс',\n",
              "   'мо',\n",
              "   'мил',\n",
              "   'есл',\n",
              "   'б',\n",
              "   'не',\n",
              "   'был',\n",
              "   'войн',\n",
              "   'цвет',\n",
              "   'на',\n",
              "   'дорог',\n",
              "   'войн',\n",
              "   'песн',\n",
              "   'десантн',\n",
              "   'штурмов',\n",
              "   'батальон',\n",
              "   'из',\n",
              "   'кинофильм',\n",
              "   'белорусск',\n",
              "   'вокза',\n",
              "   'и',\n",
              "   'друг'],\n",
              "  ['на', 'эт', 'конкурс', 'произошел', 'прор', 'наступлен', 'фольклор'],\n",
              "  ['настоя', 'этник'],\n",
              "  ['отмет',\n",
              "   'композитор',\n",
              "   'макс',\n",
              "   'дунаевск',\n",
              "   'тож',\n",
              "   'приня',\n",
              "   'участ',\n",
              "   'в',\n",
              "   'гал',\n",
              "   'концерт'],\n",
              "  ['всероссийск',\n",
              "   'конкурс',\n",
              "   'исполнител',\n",
              "   'песн',\n",
              "   'нов',\n",
              "   'звезд',\n",
              "   'проход',\n",
              "   'при',\n",
              "   'поддержк',\n",
              "   'министерств',\n",
              "   'оборон',\n",
              "   'росс'],\n",
              "  ['ег', 'иде', 'принадлеж', 'глав', 'ведомств', 'серг', 'шойг'],\n",
              "  ['благодар',\n",
              "   'эт',\n",
              "   'проект',\n",
              "   'мы',\n",
              "   'услыша',\n",
              "   'не',\n",
              "   'ту',\n",
              "   'синтетик',\n",
              "   'котор',\n",
              "   'сейчас',\n",
              "   'поголовн',\n",
              "   'поет',\n",
              "   'молодеж',\n",
              "   'а',\n",
              "   'хорош',\n",
              "   'голос',\n",
              "   'и',\n",
              "   'настоя',\n",
              "   'музык'],\n",
              "  ['над',\n",
              "   'зрител',\n",
              "   'по',\n",
              "   'достоинств',\n",
              "   'оцен',\n",
              "   'тог',\n",
              "   'певц',\n",
              "   'котор',\n",
              "   'будет',\n",
              "   'для',\n",
              "   'стран',\n",
              "   'нов',\n",
              "   'звезд',\n",
              "   'прокомментирова',\n",
              "   'шойг'],\n",
              "  ['мероприят', 'планир', 'провод', 'ежегодн']],\n",
              " 'title': ['жительниц',\n",
              "  'яма',\n",
              "  'побед',\n",
              "  'в',\n",
              "  'перв',\n",
              "  'песен',\n",
              "  'конкурс',\n",
              "  'нов',\n",
              "  'звезд']}"
            ]
          },
          "metadata": {
            "tags": []
          },
          "execution_count": 8
        }
      ]
    },
    {
      "cell_type": "markdown",
      "metadata": {
        "id": "_-FbOYZRSiai"
      },
      "source": [
        "2. Обучить word embeddings (fastText, word2vec, gloVe) на тренировочных данных. Можно использовать [gensim](https://radimrehurek.com/gensim/models/word2vec.html) . Продемонстрировать семантические ассоциации. "
      ]
    },
    {
      "cell_type": "code",
      "metadata": {
        "id": "WjAz1IoZSjrd"
      },
      "source": [
        "from gensim.models import Word2Vec\r\n",
        "\r\n",
        "sentences = [item['title'] for item in data_train]\r\n",
        "sentences.extend([sentance for item in data_train for sentance in item['text']])\r\n",
        "\r\n",
        "w2v = Word2Vec(sentences, workers=8)"
      ],
      "execution_count": 9,
      "outputs": []
    },
    {
      "cell_type": "code",
      "metadata": {
        "colab": {
          "base_uri": "https://localhost:8080/"
        },
        "id": "Z9QHj2uxTDpb",
        "outputId": "cb1fabf4-89d0-49e3-8293-4fd6218162f5"
      },
      "source": [
        "w2v.wv.most_similar(positive=['конкурс'])"
      ],
      "execution_count": 10,
      "outputs": [
        {
          "output_type": "stream",
          "text": [
            "/usr/local/lib/python3.6/dist-packages/gensim/matutils.py:737: FutureWarning: Conversion of the second argument of issubdtype from `int` to `np.signedinteger` is deprecated. In future, it will be treated as `np.int64 == np.dtype(int).type`.\n",
            "  if np.issubdtype(vec.dtype, np.int):\n"
          ],
          "name": "stderr"
        },
        {
          "output_type": "execute_result",
          "data": {
            "text/plain": [
              "[('соревнован', 0.7557839155197144),\n",
              " ('мероприят', 0.7307270765304565),\n",
              " ('фестивал', 0.727620542049408),\n",
              " ('тэф', 0.7191061973571777),\n",
              " ('голосован', 0.7015584707260132),\n",
              " ('церемон', 0.6978302001953125),\n",
              " ('евровиден', 0.6857688426971436),\n",
              " ('финалист', 0.6713295578956604),\n",
              " ('выставк', 0.6588515639305115),\n",
              " ('состязан', 0.641871452331543)]"
            ]
          },
          "metadata": {
            "tags": []
          },
          "execution_count": 10
        }
      ]
    },
    {
      "cell_type": "markdown",
      "metadata": {
        "id": "0T7A25IJTHjY"
      },
      "source": [
        "3. Реализовать алгоритм классификации, посчитать точноть на тестовых данных, подобрать гиперпараметры. Метод векторизации выбрать произвольно - можно использовать $tf-idf$ с понижением размерности (см. scikit-learn), можно использовать обученные на предыдущем шаге векторные представления, можно использовать [предобученные модели](https://rusvectores.org/ru/models/). Имейте ввиду, что простое \"усреднение\" токенов в тексте скорее всего не даст положительных результатов. Нужно реализовать два алгоритмов из трех:\r\n",
        "     - SVM\r\n",
        "     - наивный байесовский классификатор\r\n",
        "     - логистическая регрессия"
      ]
    },
    {
      "cell_type": "code",
      "metadata": {
        "id": "hnspuQEYUbDP"
      },
      "source": [
        "max_item_len = 140\r\n",
        "labels = ('science', \r\n",
        "          'style', \r\n",
        "          'culture', \r\n",
        "          'life', \r\n",
        "          'economics', \r\n",
        "          'business', \r\n",
        "          'travel', \r\n",
        "          'forces', \r\n",
        "          'media', \r\n",
        "          'sport')\r\n",
        "\r\n",
        "label_indices = {}\r\n",
        "for l in labels:\r\n",
        "  label_indices[l] = labels.index(l)"
      ],
      "execution_count": 11,
      "outputs": []
    },
    {
      "cell_type": "code",
      "metadata": {
        "colab": {
          "base_uri": "https://localhost:8080/",
          "height": 66,
          "referenced_widgets": [
            "67cc985e0c7c457ba430f4f8c2f9328f",
            "a22bbd1c934e4d55baf5d2b9e81cd35e",
            "160fd26252ea4bbc8b2215b978e6400a",
            "326565af09394b8f8a3f53a08599df93",
            "911ecefd92ba4f10baf84496cca13be1",
            "945e216138d64331b754b7bfc3f26110",
            "2c912acacf604d02b8ee140d3ece4263",
            "7d94d72208104799baac4111bc493c89"
          ]
        },
        "id": "pJmouAU2zu1F",
        "outputId": "9e0773a9-0ee4-493b-ee21-4ed7907e1571"
      },
      "source": [
        "X_train = []\r\n",
        "y_train = []\r\n",
        "\r\n",
        "for item in tqdm(data_train):\r\n",
        "    label = item[\"label\"]\r\n",
        "    title = item[\"title\"]\r\n",
        "    text = item[\"text\"]\r\n",
        "\r\n",
        "    label_index = label_indices[label]\r\n",
        "\r\n",
        "    word_index = 0\r\n",
        "    sent_index = 0\r\n",
        "    pos_in_sent = 0\r\n",
        "\r\n",
        "    x = []\r\n",
        "\r\n",
        "    while word_index < max_item_len:\r\n",
        "        if word_index < len(title):\r\n",
        "            x.append(title[word_index])\r\n",
        "            word_index += 1\r\n",
        "        else:\r\n",
        "            if pos_in_sent < len(text[sent_index]):\r\n",
        "                x.append(text[sent_index][pos_in_sent])\r\n",
        "                word_index += 1\r\n",
        "                pos_in_sent += 1\r\n",
        "            elif sent_index < len(text) - 1:\r\n",
        "                sent_index += 1\r\n",
        "                pos_in_sent = 0\r\n",
        "            else:\r\n",
        "                x.append(\"PLACEHOLDER\")\r\n",
        "                word_index += 1\r\n",
        "\r\n",
        "    X_train.append(\" \".join(x))\r\n",
        "    y_train.append(label_index)"
      ],
      "execution_count": 12,
      "outputs": [
        {
          "output_type": "display_data",
          "data": {
            "application/vnd.jupyter.widget-view+json": {
              "model_id": "67cc985e0c7c457ba430f4f8c2f9328f",
              "version_minor": 0,
              "version_major": 2
            },
            "text/plain": [
              "HBox(children=(FloatProgress(value=0.0, max=15000.0), HTML(value='')))"
            ]
          },
          "metadata": {
            "tags": []
          }
        },
        {
          "output_type": "stream",
          "text": [
            "\n"
          ],
          "name": "stdout"
        }
      ]
    },
    {
      "cell_type": "code",
      "metadata": {
        "colab": {
          "base_uri": "https://localhost:8080/",
          "height": 66,
          "referenced_widgets": [
            "2c00fb57018248c3befa6bd569345413",
            "e8f94cc1cdbc48748f6439a895268303",
            "55ba6612556c4b8f9e02947b77da951d",
            "b71ccff1d1c14e9f8aadcec09c0429eb",
            "86c8f2be3c564b14a3af675e0cfba561",
            "5d6b32353b73469087a563fef8c50541",
            "b623c9ed54de4f98a016c51d5ed8864e",
            "9684c7bb4c204cc8abaa51d83e46e33d"
          ]
        },
        "id": "NzJsDMxN7ek2",
        "outputId": "2fe2e42d-85bb-4def-ec55-ac3aa84a8a47"
      },
      "source": [
        "X_test = []\r\n",
        "y_test = []\r\n",
        "\r\n",
        "for item in tqdm(data_test):\r\n",
        "    label = item[\"label\"]\r\n",
        "    title = item[\"title\"]\r\n",
        "    text = item[\"text\"]\r\n",
        "\r\n",
        "    label_index = label_indices[label]\r\n",
        "\r\n",
        "    word_index = 0\r\n",
        "    sent_index = 0\r\n",
        "    pos_in_sent = 0\r\n",
        "\r\n",
        "    x = []\r\n",
        "\r\n",
        "    while word_index < max_item_len:\r\n",
        "        if word_index < len(title):\r\n",
        "            x.append(title[word_index])\r\n",
        "            word_index += 1\r\n",
        "        else:\r\n",
        "            if pos_in_sent < len(text[sent_index]):\r\n",
        "                x.append(text[sent_index][pos_in_sent])\r\n",
        "                word_index += 1\r\n",
        "                pos_in_sent += 1\r\n",
        "            elif sent_index < len(text) - 1:\r\n",
        "                sent_index += 1\r\n",
        "                pos_in_sent = 0\r\n",
        "            else:\r\n",
        "                x.append(\"PLACEHOLDER\")\r\n",
        "                word_index += 1\r\n",
        "\r\n",
        "    X_test.append(\" \".join(x))\r\n",
        "    y_test.append(label_index)"
      ],
      "execution_count": 13,
      "outputs": [
        {
          "output_type": "display_data",
          "data": {
            "application/vnd.jupyter.widget-view+json": {
              "model_id": "2c00fb57018248c3befa6bd569345413",
              "version_minor": 0,
              "version_major": 2
            },
            "text/plain": [
              "HBox(children=(FloatProgress(value=0.0, max=3000.0), HTML(value='')))"
            ]
          },
          "metadata": {
            "tags": []
          }
        },
        {
          "output_type": "stream",
          "text": [
            "\n"
          ],
          "name": "stdout"
        }
      ]
    },
    {
      "cell_type": "code",
      "metadata": {
        "id": "HMOS0ysx7n-9"
      },
      "source": [
        "from sklearn.feature_extraction.text import TfidfVectorizer\r\n",
        "\r\n",
        "tfidf = TfidfVectorizer()\r\n",
        "X_train_idf = tfidf.fit_transform(X_train)\r\n",
        "X_test_idf = tfidf.transform(X_test)"
      ],
      "execution_count": 14,
      "outputs": []
    },
    {
      "cell_type": "code",
      "metadata": {
        "colab": {
          "base_uri": "https://localhost:8080/"
        },
        "id": "ydpr53ym0Wl3",
        "outputId": "82b90cdd-4abb-4df4-911f-7630e127a53d"
      },
      "source": [
        "from sklearn.linear_model import LogisticRegression\r\n",
        "\r\n",
        "clf = LogisticRegression()\r\n",
        "clf.fit(X_train_idf, y_train)\r\n",
        "preds = clf.predict(X_test_idf)\r\n",
        "print(f\"accuracy = {(y_test == preds).mean()}\")"
      ],
      "execution_count": 15,
      "outputs": [
        {
          "output_type": "stream",
          "text": [
            "/usr/local/lib/python3.6/dist-packages/sklearn/linear_model/logistic.py:432: FutureWarning: Default solver will be changed to 'lbfgs' in 0.22. Specify a solver to silence this warning.\n",
            "  FutureWarning)\n",
            "/usr/local/lib/python3.6/dist-packages/sklearn/linear_model/logistic.py:469: FutureWarning: Default multi_class will be changed to 'auto' in 0.22. Specify the multi_class option to silence this warning.\n",
            "  \"this warning.\", FutureWarning)\n"
          ],
          "name": "stderr"
        },
        {
          "output_type": "stream",
          "text": [
            "accuracy = 0.853\n"
          ],
          "name": "stdout"
        }
      ]
    },
    {
      "cell_type": "code",
      "metadata": {
        "colab": {
          "base_uri": "https://localhost:8080/"
        },
        "id": "Z259xBak8Ddd",
        "outputId": "997666df-2d80-4d31-c5ca-59daa7b1224d"
      },
      "source": [
        "from sklearn.naive_bayes import MultinomialNB\r\n",
        "\r\n",
        "clf = MultinomialNB()\r\n",
        "clf.fit(X_train_idf, y_train)\r\n",
        "preds = clf.predict(X_test_idf)\r\n",
        "print(f\"accuracy = {(y_test == preds).mean()}\")"
      ],
      "execution_count": 16,
      "outputs": [
        {
          "output_type": "stream",
          "text": [
            "accuracy = 0.796\n"
          ],
          "name": "stdout"
        }
      ]
    },
    {
      "cell_type": "code",
      "metadata": {
        "colab": {
          "base_uri": "https://localhost:8080/"
        },
        "id": "Q8lr3IYN8Kil",
        "outputId": "5b7e4c16-d490-4752-c41f-94360d271c44"
      },
      "source": [
        "from sklearn.ensemble import RandomForestClassifier\r\n",
        "\r\n",
        "clf = RandomForestClassifier()\r\n",
        "clf.fit(X_train_idf, y_train)\r\n",
        "preds = clf.predict(X_test_idf)\r\n",
        "print(f\"accuracy = {(y_test == preds).mean()}\")"
      ],
      "execution_count": 17,
      "outputs": [
        {
          "output_type": "stream",
          "text": [
            "/usr/local/lib/python3.6/dist-packages/sklearn/ensemble/forest.py:245: FutureWarning: The default value of n_estimators will change from 10 in version 0.20 to 100 in 0.22.\n",
            "  \"10 in version 0.20 to 100 in 0.22.\", FutureWarning)\n"
          ],
          "name": "stderr"
        },
        {
          "output_type": "stream",
          "text": [
            "accuracy = 0.71\n"
          ],
          "name": "stdout"
        }
      ]
    }
  ]
}