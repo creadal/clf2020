{
  "nbformat": 4,
  "nbformat_minor": 0,
  "metadata": {
    "kernelspec": {
      "display_name": "Python 3",
      "language": "python",
      "name": "python3"
    },
    "language_info": {
      "codemirror_mode": {
        "name": "ipython",
        "version": 3
      },
      "file_extension": ".py",
      "mimetype": "text/x-python",
      "name": "python",
      "nbconvert_exporter": "python",
      "pygments_lexer": "ipython3",
      "version": "3.6.9"
    },
    "colab": {
      "name": "Task_3.ipynb",
      "provenance": []
    }
  },
  "cells": [
    {
      "cell_type": "code",
      "metadata": {
        "collapsed": true,
        "jupyter": {
          "outputs_hidden": true
        },
        "id": "PALvDtUa5WFQ"
      },
      "source": [
        "import pandas as pd\n",
        "import matplotlib.pyplot as plt"
      ],
      "execution_count": null,
      "outputs": []
    },
    {
      "cell_type": "markdown",
      "metadata": {
        "id": "jHRKAuWg5WFX"
      },
      "source": [
        "В файле `data/weather.csv` находит архив погоды в г. Санкт-Петербург с 1 января 2008 года по 31 декабря 2016 года. Файл состоит из двух столбцов - дата (**Day**) и средняя дневная температура в этот день (**t**). Прочитать данные в `pandas` можно с помощью кода:"
      ]
    },
    {
      "cell_type": "code",
      "metadata": {
        "id": "bKZQYB0v5WFY"
      },
      "source": [
        "df = pd.read_csv('weather.csv', encoding='utf-8', index_col=False, parse_dates=[0])"
      ],
      "execution_count": null,
      "outputs": []
    },
    {
      "cell_type": "code",
      "metadata": {
        "colab": {
          "base_uri": "https://localhost:8080/",
          "height": 204
        },
        "id": "ftK6ae2l5WFZ",
        "outputId": "3d9431b5-22cf-40a1-9342-cf896808eb19"
      },
      "source": [
        "df.head(5)"
      ],
      "execution_count": null,
      "outputs": [
        {
          "output_type": "execute_result",
          "data": {
            "text/html": [
              "<div>\n",
              "<style scoped>\n",
              "    .dataframe tbody tr th:only-of-type {\n",
              "        vertical-align: middle;\n",
              "    }\n",
              "\n",
              "    .dataframe tbody tr th {\n",
              "        vertical-align: top;\n",
              "    }\n",
              "\n",
              "    .dataframe thead th {\n",
              "        text-align: right;\n",
              "    }\n",
              "</style>\n",
              "<table border=\"1\" class=\"dataframe\">\n",
              "  <thead>\n",
              "    <tr style=\"text-align: right;\">\n",
              "      <th></th>\n",
              "      <th>Day</th>\n",
              "      <th>t</th>\n",
              "    </tr>\n",
              "  </thead>\n",
              "  <tbody>\n",
              "    <tr>\n",
              "      <th>0</th>\n",
              "      <td>2008-01-01</td>\n",
              "      <td>0</td>\n",
              "    </tr>\n",
              "    <tr>\n",
              "      <th>1</th>\n",
              "      <td>2008-01-02</td>\n",
              "      <td>-5</td>\n",
              "    </tr>\n",
              "    <tr>\n",
              "      <th>2</th>\n",
              "      <td>2008-01-03</td>\n",
              "      <td>-11</td>\n",
              "    </tr>\n",
              "    <tr>\n",
              "      <th>3</th>\n",
              "      <td>2008-01-04</td>\n",
              "      <td>-11</td>\n",
              "    </tr>\n",
              "    <tr>\n",
              "      <th>4</th>\n",
              "      <td>2008-01-05</td>\n",
              "      <td>-12</td>\n",
              "    </tr>\n",
              "  </tbody>\n",
              "</table>\n",
              "</div>"
            ],
            "text/plain": [
              "         Day   t\n",
              "0 2008-01-01   0\n",
              "1 2008-01-02  -5\n",
              "2 2008-01-03 -11\n",
              "3 2008-01-04 -11\n",
              "4 2008-01-05 -12"
            ]
          },
          "metadata": {
            "tags": []
          },
          "execution_count": 5
        }
      ]
    },
    {
      "cell_type": "markdown",
      "metadata": {
        "id": "Yx__TEo35WFa"
      },
      "source": [
        "С помощью `Pandas` решите следующие задачи"
      ]
    },
    {
      "cell_type": "markdown",
      "metadata": {
        "id": "ZTXNqBXE5WFa"
      },
      "source": [
        "**1.** Определите самый холодный год, в котором среднеяя температура была минимальная и самый теплый год. "
      ]
    },
    {
      "cell_type": "code",
      "metadata": {
        "collapsed": true,
        "jupyter": {
          "outputs_hidden": true
        },
        "colab": {
          "base_uri": "https://localhost:8080/"
        },
        "id": "e-_pf0Zj5WFb",
        "outputId": "11e1fabf-75d8-40a9-c1d0-5682bc01d239"
      },
      "source": [
        "year_means = df.groupby(pd.Grouper(key=\"Day\", freq=\"1YS\")).mean()['t']\r\n",
        "\r\n",
        "print(f\"maximum temperature: {year_means.max()}, \"\r\n",
        "      f\"maximum temperature year: {year_means.idxmax().year}\")\r\n",
        "print(f\"minimum temperature: {year_means.min()}, \"\r\n",
        "      f\"minimum temperature year: {year_means.idxmin().year}\")"
      ],
      "execution_count": null,
      "outputs": [
        {
          "output_type": "stream",
          "text": [
            "maximum temperature: 9.07945205479452, maximum temperature year: 2015\n",
            "minimum temperature: 6.980821917808219, minimum temperature year: 2012\n"
          ],
          "name": "stdout"
        }
      ]
    },
    {
      "cell_type": "markdown",
      "metadata": {
        "id": "5K0ZZdDd5WFb"
      },
      "source": [
        "**2.** Определите год, где в январе было наибольшее число дней с положительной температурой ($\\text{t} \\ge 0$)."
      ]
    },
    {
      "cell_type": "code",
      "metadata": {
        "collapsed": true,
        "jupyter": {
          "outputs_hidden": true
        },
        "colab": {
          "base_uri": "https://localhost:8080/"
        },
        "id": "pn5f6FBB5WFb",
        "outputId": "c543f688-c212-49b7-964c-b220ff0a9de4"
      },
      "source": [
        "jan_pos = (df['Day'].dt.month == 1) & (df.t >= 0)\r\n",
        "filtered_df = df.loc[jan_pos, :].apply(lambda row: [row.Day, 1], axis=\"columns\", result_type=\"broadcast\")\r\n",
        "months = filtered_df.groupby(pd.Grouper(key=\"Day\", freq=\"1MS\"))['t'].sum()\r\n",
        "\r\n",
        "print(f\"maximum number of days: {months.max()}, \"\r\n",
        "      f\"year: {months.idxmax().year}\")"
      ],
      "execution_count": null,
      "outputs": [
        {
          "output_type": "stream",
          "text": [
            "maximum number of days: 19, year: 2008\n"
          ],
          "name": "stdout"
        }
      ]
    },
    {
      "cell_type": "markdown",
      "metadata": {
        "id": "OTPg1Ks15WFb"
      },
      "source": [
        "**3.** В каком году было самое холодное лето (по средней температуре)"
      ]
    },
    {
      "cell_type": "code",
      "metadata": {
        "collapsed": true,
        "jupyter": {
          "outputs_hidden": true
        },
        "colab": {
          "base_uri": "https://localhost:8080/"
        },
        "id": "IsCrEFGq5WFc",
        "outputId": "f34f5d3a-f8da-4827-f553-ca092dc9399c"
      },
      "source": [
        "is_summer = (df['Day'].dt.month == 6) | (df['Day'].dt.month == 7) | (df['Day'].dt.month == 8)\r\n",
        "summers_means = df[is_summer].groupby(pd.Grouper(key=\"Day\", freq=\"3MS\")).mean()['t']\r\n",
        "\r\n",
        "print(f\"mean temperature of coldest summer: {summers_means.max()}, \"\r\n",
        "      f\"year: {summers_means.idxmax().year}\")"
      ],
      "execution_count": null,
      "outputs": [
        {
          "output_type": "stream",
          "text": [
            "mean temperature of coldest summer: 22.119565217391305, year: 2010\n"
          ],
          "name": "stdout"
        }
      ]
    },
    {
      "cell_type": "markdown",
      "metadata": {
        "id": "iR_ufxH15WFc"
      },
      "source": [
        "**4.** Найдите день с самой большим перепадом температуры, если сравнивать со следующим днем. "
      ]
    },
    {
      "cell_type": "code",
      "metadata": {
        "collapsed": true,
        "jupyter": {
          "outputs_hidden": true
        },
        "colab": {
          "base_uri": "https://localhost:8080/"
        },
        "id": "asaRb9Dp5WFc",
        "outputId": "85e2fe1f-3616-4f25-aad6-377d97802b86"
      },
      "source": [
        "differences = df['t'].diff().abs()\r\n",
        "\r\n",
        "print(f\"max diff: {differences.max()}, \"\r\n",
        "      f\"day: {df.iloc[differences.idxmax()].Day}\")"
      ],
      "execution_count": null,
      "outputs": [
        {
          "output_type": "stream",
          "text": [
            "max diff: 15.0, day: 2014-05-27 00:00:00\n"
          ],
          "name": "stdout"
        }
      ]
    },
    {
      "cell_type": "markdown",
      "metadata": {
        "id": "hokk5Lxu5WFc"
      },
      "source": [
        "**5.** Постройте график среднегодовых температур (по оси $x$ - год, по оси $y$ - средняя температура в этот год)."
      ]
    },
    {
      "cell_type": "code",
      "metadata": {
        "collapsed": true,
        "jupyter": {
          "outputs_hidden": true
        },
        "colab": {
          "base_uri": "https://localhost:8080/",
          "height": 296
        },
        "id": "t4Y8u25s5WFd",
        "outputId": "2bdd5c4a-36f8-4452-95d5-2a0ea241efc9"
      },
      "source": [
        "df.groupby(pd.Grouper(key=\"Day\", freq=\"1YS\")).mean().plot()"
      ],
      "execution_count": null,
      "outputs": [
        {
          "output_type": "execute_result",
          "data": {
            "text/plain": [
              "<matplotlib.axes._subplots.AxesSubplot at 0x7fa1b561c048>"
            ]
          },
          "metadata": {
            "tags": []
          },
          "execution_count": 10
        },
        {
          "output_type": "display_data",
          "data": {
            "image/png": "[encoded data removed]",
            "text/plain": [
              "<Figure size 432x288 with 1 Axes>"
            ]
          },
          "metadata": {
            "tags": [],
            "needs_background": "light"
          }
        }
      ]
    }
  ]
}