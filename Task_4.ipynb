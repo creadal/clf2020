{
  "nbformat": 4,
  "nbformat_minor": 0,
  "metadata": {
    "kernelspec": {
      "display_name": "Python 3",
      "language": "python",
      "name": "python3"
    },
    "language_info": {
      "codemirror_mode": {
        "name": "ipython",
        "version": 3
      },
      "file_extension": ".py",
      "mimetype": "text/x-python",
      "name": "python",
      "nbconvert_exporter": "python",
      "pygments_lexer": "ipython3",
      "version": "3.6.9"
    },
    "colab": {
      "name": "Task_4.ipynb",
      "provenance": []
    },
    "widgets": {
      "application/vnd.jupyter.widget-state+json": {
        "2f7305ddf58748afb8edaf573e0df20b": {
          "model_module": "@jupyter-widgets/controls",
          "model_name": "HBoxModel",
          "state": {
            "_view_name": "HBoxView",
            "_dom_classes": [],
            "_model_name": "HBoxModel",
            "_view_module": "@jupyter-widgets/controls",
            "_model_module_version": "1.5.0",
            "_view_count": null,
            "_view_module_version": "1.5.0",
            "box_style": "",
            "layout": "IPY_MODEL_3276db4e11374b0081dac3354e25b9a0",
            "_model_module": "@jupyter-widgets/controls",
            "children": [
              "IPY_MODEL_8e33208aff904258bf60d29cda909ad3",
              "IPY_MODEL_e731abd182a545d5a7fbede062404a37"
            ]
          }
        },
        "3276db4e11374b0081dac3354e25b9a0": {
          "model_module": "@jupyter-widgets/base",
          "model_name": "LayoutModel",
          "state": {
            "_view_name": "LayoutView",
            "grid_template_rows": null,
            "right": null,
            "justify_content": null,
            "_view_module": "@jupyter-widgets/base",
            "overflow": null,
            "_model_module_version": "1.2.0",
            "_view_count": null,
            "flex_flow": null,
            "width": null,
            "min_width": null,
            "border": null,
            "align_items": null,
            "bottom": null,
            "_model_module": "@jupyter-widgets/base",
            "top": null,
            "grid_column": null,
            "overflow_y": null,
            "overflow_x": null,
            "grid_auto_flow": null,
            "grid_area": null,
            "grid_template_columns": null,
            "flex": null,
            "_model_name": "LayoutModel",
            "justify_items": null,
            "grid_row": null,
            "max_height": null,
            "align_content": null,
            "visibility": null,
            "align_self": null,
            "height": null,
            "min_height": null,
            "padding": null,
            "grid_auto_rows": null,
            "grid_gap": null,
            "max_width": null,
            "order": null,
            "_view_module_version": "1.2.0",
            "grid_template_areas": null,
            "object_position": null,
            "object_fit": null,
            "grid_auto_columns": null,
            "margin": null,
            "display": null,
            "left": null
          }
        },
        "8e33208aff904258bf60d29cda909ad3": {
          "model_module": "@jupyter-widgets/controls",
          "model_name": "FloatProgressModel",
          "state": {
            "_view_name": "ProgressView",
            "style": "IPY_MODEL_becdb5f0b9ea42c5a64fcb084c9597ee",
            "_dom_classes": [],
            "description": "100%",
            "_model_name": "FloatProgressModel",
            "bar_style": "success",
            "max": 100,
            "_view_module": "@jupyter-widgets/controls",
            "_model_module_version": "1.5.0",
            "value": 100,
            "_view_count": null,
            "_view_module_version": "1.5.0",
            "orientation": "horizontal",
            "min": 0,
            "description_tooltip": null,
            "_model_module": "@jupyter-widgets/controls",
            "layout": "IPY_MODEL_19be43e32230460ebc59b425abd0165a"
          }
        },
        "e731abd182a545d5a7fbede062404a37": {
          "model_module": "@jupyter-widgets/controls",
          "model_name": "HTMLModel",
          "state": {
            "_view_name": "HTMLView",
            "style": "IPY_MODEL_d9f35a2ca99646558dbb613bfe4627b5",
            "_dom_classes": [],
            "description": "",
            "_model_name": "HTMLModel",
            "placeholder": "​",
            "_view_module": "@jupyter-widgets/controls",
            "_model_module_version": "1.5.0",
            "value": " 100/100 [02:45&lt;00:00,  1.65s/it]",
            "_view_count": null,
            "_view_module_version": "1.5.0",
            "description_tooltip": null,
            "_model_module": "@jupyter-widgets/controls",
            "layout": "IPY_MODEL_a317a49f467a47d9844cc74208dce8c8"
          }
        },
        "becdb5f0b9ea42c5a64fcb084c9597ee": {
          "model_module": "@jupyter-widgets/controls",
          "model_name": "ProgressStyleModel",
          "state": {
            "_view_name": "StyleView",
            "_model_name": "ProgressStyleModel",
            "description_width": "initial",
            "_view_module": "@jupyter-widgets/base",
            "_model_module_version": "1.5.0",
            "_view_count": null,
            "_view_module_version": "1.2.0",
            "bar_color": null,
            "_model_module": "@jupyter-widgets/controls"
          }
        },
        "19be43e32230460ebc59b425abd0165a": {
          "model_module": "@jupyter-widgets/base",
          "model_name": "LayoutModel",
          "state": {
            "_view_name": "LayoutView",
            "grid_template_rows": null,
            "right": null,
            "justify_content": null,
            "_view_module": "@jupyter-widgets/base",
            "overflow": null,
            "_model_module_version": "1.2.0",
            "_view_count": null,
            "flex_flow": null,
            "width": null,
            "min_width": null,
            "border": null,
            "align_items": null,
            "bottom": null,
            "_model_module": "@jupyter-widgets/base",
            "top": null,
            "grid_column": null,
            "overflow_y": null,
            "overflow_x": null,
            "grid_auto_flow": null,
            "grid_area": null,
            "grid_template_columns": null,
            "flex": null,
            "_model_name": "LayoutModel",
            "justify_items": null,
            "grid_row": null,
            "max_height": null,
            "align_content": null,
            "visibility": null,
            "align_self": null,
            "height": null,
            "min_height": null,
            "padding": null,
            "grid_auto_rows": null,
            "grid_gap": null,
            "max_width": null,
            "order": null,
            "_view_module_version": "1.2.0",
            "grid_template_areas": null,
            "object_position": null,
            "object_fit": null,
            "grid_auto_columns": null,
            "margin": null,
            "display": null,
            "left": null
          }
        },
        "d9f35a2ca99646558dbb613bfe4627b5": {
          "model_module": "@jupyter-widgets/controls",
          "model_name": "DescriptionStyleModel",
          "state": {
            "_view_name": "StyleView",
            "_model_name": "DescriptionStyleModel",
            "description_width": "",
            "_view_module": "@jupyter-widgets/base",
            "_model_module_version": "1.5.0",
            "_view_count": null,
            "_view_module_version": "1.2.0",
            "_model_module": "@jupyter-widgets/controls"
          }
        },
        "a317a49f467a47d9844cc74208dce8c8": {
          "model_module": "@jupyter-widgets/base",
          "model_name": "LayoutModel",
          "state": {
            "_view_name": "LayoutView",
            "grid_template_rows": null,
            "right": null,
            "justify_content": null,
            "_view_module": "@jupyter-widgets/base",
            "overflow": null,
            "_model_module_version": "1.2.0",
            "_view_count": null,
            "flex_flow": null,
            "width": null,
            "min_width": null,
            "border": null,
            "align_items": null,
            "bottom": null,
            "_model_module": "@jupyter-widgets/base",
            "top": null,
            "grid_column": null,
            "overflow_y": null,
            "overflow_x": null,
            "grid_auto_flow": null,
            "grid_area": null,
            "grid_template_columns": null,
            "flex": null,
            "_model_name": "LayoutModel",
            "justify_items": null,
            "grid_row": null,
            "max_height": null,
            "align_content": null,
            "visibility": null,
            "align_self": null,
            "height": null,
            "min_height": null,
            "padding": null,
            "grid_auto_rows": null,
            "grid_gap": null,
            "max_width": null,
            "order": null,
            "_view_module_version": "1.2.0",
            "grid_template_areas": null,
            "object_position": null,
            "object_fit": null,
            "grid_auto_columns": null,
            "margin": null,
            "display": null,
            "left": null
          }
        }
      }
    }
  },
  "cells": [
    {
      "cell_type": "markdown",
      "metadata": {
        "id": "cuYGy_A68FRk"
      },
      "source": [
        "# Линейная регрессия"
      ]
    },
    {
      "cell_type": "markdown",
      "metadata": {
        "id": "MLAWUlc-8FRq"
      },
      "source": [
        "Данные содержатся в файле `data/lin_reg.txt`. Прочитать их можно следующим так:"
      ]
    },
    {
      "cell_type": "code",
      "metadata": {
        "id": "bQ0wFNAZ8FRr"
      },
      "source": [
        "import numpy as np\n",
        "D = np.loadtxt('lin_reg.txt', delimiter=',')\n",
        "X = D[:, :-1]\n",
        "Y = D[:, -1]"
      ],
      "execution_count": null,
      "outputs": []
    },
    {
      "cell_type": "markdown",
      "metadata": {
        "id": "E-_ofhpI8FRr"
      },
      "source": [
        "При выполнении заданий **нельзя** пользоваться `scikit-learn` и т.п., только `NumPy`/`JAX`/`TF`/`PyTorch` и `matplotlib`/`seaborn`/`plotly`/etc.\n",
        "\n",
        "1. Нарисуйте график среднеквадратичной ошибки в зависимости от параметра регуляризации $\\alpha$, используя полные данные для обучения и для тестирования. \n",
        "2. Подготовьте исходные данные для 5 fold CV.\n",
        "3. С помощью CV найдите оптимальное значение $\\alpha$ на какой-нибудь сетке значений.\n",
        "4. Постройте валидационную кривую. \n",
        "5. Постройте кривую обучения."
      ]
    },
    {
      "cell_type": "code",
      "metadata": {
        "id": "tiv5sVTmcAbo"
      },
      "source": [
        "import numpy as np\r\n",
        "import torch\r\n",
        "\r\n",
        "D = np.loadtxt('lin_reg.txt', delimiter=',')\r\n",
        "X = D[:, :-1]\r\n",
        "Y = D[:, -1]\r\n",
        "\r\n",
        "X = torch.tensor(X, dtype=torch.float)\r\n",
        "Y = torch.tensor(Y, dtype=torch.float)\r\n",
        "\r\n",
        "X = torch.hstack((torch.ones(X.shape[0], 1), X))"
      ],
      "execution_count": null,
      "outputs": []
    },
    {
      "cell_type": "code",
      "metadata": {
        "id": "830ozyZx8FRs"
      },
      "source": [
        "from tqdm.notebook import tqdm\r\n",
        "\r\n",
        "\r\n",
        "def mse(y_true, y_pred):\r\n",
        "    return (y_true - y_pred).pow(2).mean()\r\n",
        "\r\n",
        "\r\n",
        "class LinearRegression:\r\n",
        "    def __init__(self, lr=0.001, momentum=0.9, loss=mse, regulization=\"L2\", alpha=0.1, epochs=100, batch_size=100):\r\n",
        "        self.lr = lr\r\n",
        "        self.momentum = momentum\r\n",
        "        self.loss = loss\r\n",
        "        self.reguliztion = regulization\r\n",
        "        self.alpha = alpha\r\n",
        "        self.batch_size=batch_size\r\n",
        "        \r\n",
        "        self.theta = None\r\n",
        "        self.losses = None\r\n",
        "        self.prev_grad = 0\r\n",
        "        self.epochs = 100\r\n",
        "        \r\n",
        "    def fit(self, X, y, disable_bar=False):\r\n",
        "        self.theta = torch.rand(X.shape[1], requires_grad=True)\r\n",
        "        \r\n",
        "        epoch = 0\r\n",
        "        self.losses = []\r\n",
        "        n_iters = X.shape[0] // self.batch_size\r\n",
        "        \r\n",
        "        for epoch in tqdm(range(self.epochs), disable=disable_bar):\r\n",
        "            loss_acc = 0\r\n",
        "            for i in range(n_iters):\r\n",
        "                y_pred = X[i * self.batch_size: (i + 1) * self.batch_size] @ self.theta\r\n",
        "                loss = self.loss(y[i * self.batch_size: (i + 1) * self.batch_size], y_pred)\r\n",
        "\r\n",
        "                if self.reguliztion == \"L2\":\r\n",
        "                    loss += self.alpha * torch.norm(self.theta)\r\n",
        "\r\n",
        "                loss.backward()\r\n",
        "\r\n",
        "                with torch.no_grad():\r\n",
        "                    loss_acc += loss.item()\r\n",
        "\r\n",
        "                    grad = self.lr * self.theta.grad\r\n",
        "                    if self.momentum:\r\n",
        "                        grad += self.momentum * self.prev_grad\r\n",
        "\r\n",
        "                    self.theta -= grad\r\n",
        "                    self.prev_grad = grad\r\n",
        "\r\n",
        "                    self.theta.grad.zero_()\r\n",
        "                        \r\n",
        "            self.losses.append(loss_acc / n_iters)\r\n",
        "\r\n",
        "    \r\n",
        "    def predict(self, X):\r\n",
        "        return X @ self.theta"
      ],
      "execution_count": null,
      "outputs": []
    },
    {
      "cell_type": "code",
      "metadata": {
        "colab": {
          "base_uri": "https://localhost:8080/",
          "height": 568
        },
        "id": "lyjKdEttRJhH",
        "outputId": "65cecfaf-1a21-4f87-83fa-80924f97bde9"
      },
      "source": [
        "import matplotlib.pyplot as plt\r\n",
        "\r\n",
        "\r\n",
        "def plot_alpha(losses, alphas, label, color=\"r\"):\r\n",
        "    plt.plot(alphas, losses, color=color, label=label)\r\n",
        "    plt.xlabel(\"alpha\")\r\n",
        "    plt.ylabel(\"mse\")\r\n",
        "\r\n",
        "alpha_losses = []\r\n",
        "train_losses = []\r\n",
        "alphas = np.arange(0.01, 10, 0.3)\r\n",
        "\r\n",
        "for a in alphas:\r\n",
        "    reg = LinearRegression(alpha=a)\r\n",
        "\r\n",
        "    reg.fit(X, Y, disable_bar=True)\r\n",
        "    \r\n",
        "    y_pred = reg.predict(X)\r\n",
        "    alpha_losses.append(mse(Y, y_pred))\r\n",
        "\r\n",
        "plt.figure(figsize=(16, 9))\r\n",
        "plot_alpha(alpha_losses, alphas, label='')\r\n",
        "plt.legend()\r\n",
        "plt.show()"
      ],
      "execution_count": null,
      "outputs": [
        {
          "output_type": "stream",
          "text": [
            "No handles with labels found to put in legend.\n"
          ],
          "name": "stderr"
        },
        {
          "output_type": "display_data",
          "data": {
            "image/png": "[encoded data removed]",
            "text/plain": [
              "<Figure size 1152x648 with 1 Axes>"
            ]
          },
          "metadata": {
            "tags": [],
            "needs_background": "light"
          }
        }
      ]
    },
    {
      "cell_type": "code",
      "metadata": {
        "id": "RVAsuEQISNXu"
      },
      "source": [
        "class CrossVal:\r\n",
        "    def __init__(self, n_items, n_folds=5):\r\n",
        "        self.n_items = n_items\r\n",
        "        self.n_folds = n_folds\r\n",
        "    \r\n",
        "    def splits(self):\r\n",
        "        indicies = np.arange(self.n_items)\r\n",
        "        split_size = self.n_items // self.n_folds\r\n",
        "        \r\n",
        "        for i in range(self.n_folds):\r\n",
        "            train_indicies = indicies[0: i * split_size]\r\n",
        "            train_indicies = np.hstack((train_indicies, indicies[(i+1) * split_size:]))\r\n",
        "            \r\n",
        "            val_indicies = indicies[i * split_size: (i + 1) * split_size]\r\n",
        "            yield (train_indicies, val_indicies)"
      ],
      "execution_count": null,
      "outputs": []
    },
    {
      "cell_type": "code",
      "metadata": {
        "id": "zr-8XGoATM0-"
      },
      "source": [
        "def cross_val_score(Regressor, X, y, n_folds=5, **params):\r\n",
        "    reg = Regressor(**params)\r\n",
        "    \r\n",
        "    scores = np.zeros(n_folds)\r\n",
        "    train_scores = np.zeros(n_folds)\r\n",
        "    cv = CrossVal(X.shape[0])\r\n",
        "\r\n",
        "    for i, (train_indicies, val_indicies) in enumerate(cv.splits()):\r\n",
        "        reg.fit(X[train_indicies], y[train_indicies], disable_bar=True)\r\n",
        "        y_pred = reg.predict(X[val_indicies])\r\n",
        "        scores[i] = mse(y[val_indicies], y_pred)\r\n",
        "        y_pred = reg.predict(X[train_indicies])\r\n",
        "        train_scores[i] = mse(y[train_indicies], y_pred)\r\n",
        "        \r\n",
        "    return scores, train_scores"
      ],
      "execution_count": null,
      "outputs": []
    },
    {
      "cell_type": "code",
      "metadata": {
        "id": "BFEapqX0TPKO"
      },
      "source": [
        "import random\r\n",
        "\r\n",
        "class RandomSearchCV:\r\n",
        "    def __init__(self, n_trials, params_bound, n_folds=5):\r\n",
        "        self.n_trials = n_trials\r\n",
        "        self.params_bound = params_bound\r\n",
        "        self.n_folds = n_folds\r\n",
        "        \r\n",
        "    def search(self, Regressor, X, y):\r\n",
        "        scores = []\r\n",
        "        for i in tqdm(range(self.n_trials)):\r\n",
        "            params = {\r\n",
        "                key: random.uniform(v[0], v[1])\r\n",
        "                for key, v in self.params_bound.items()\r\n",
        "            }\r\n",
        "            scores.append({\r\n",
        "                \"params\": params,\r\n",
        "                \"scores\": cross_val_score(Regressor, X, y, n_folds=self.n_folds, **params)[0].mean()\r\n",
        "            })\r\n",
        "        return scores"
      ],
      "execution_count": null,
      "outputs": []
    },
    {
      "cell_type": "code",
      "metadata": {
        "colab": {
          "base_uri": "https://localhost:8080/",
          "height": 66,
          "referenced_widgets": [
            "2f7305ddf58748afb8edaf573e0df20b",
            "3276db4e11374b0081dac3354e25b9a0",
            "8e33208aff904258bf60d29cda909ad3",
            "e731abd182a545d5a7fbede062404a37",
            "becdb5f0b9ea42c5a64fcb084c9597ee",
            "19be43e32230460ebc59b425abd0165a",
            "d9f35a2ca99646558dbb613bfe4627b5",
            "a317a49f467a47d9844cc74208dce8c8"
          ]
        },
        "id": "MJ-zEbv_TcuY",
        "outputId": "10574736-63fd-461b-aa06-0c3142c58a24"
      },
      "source": [
        "search = RandomSearchCV(100, {\r\n",
        "    \"lr\": (0.001, 0.00001),\r\n",
        "    \"alpha\": (0.1, 10),\r\n",
        "    \"momentum\": (0.5, 0.95)\r\n",
        "})\r\n",
        "\r\n",
        "results = search.search(LinearRegression, X, Y)"
      ],
      "execution_count": null,
      "outputs": [
        {
          "output_type": "display_data",
          "data": {
            "application/vnd.jupyter.widget-view+json": {
              "model_id": "2f7305ddf58748afb8edaf573e0df20b",
              "version_minor": 0,
              "version_major": 2
            },
            "text/plain": [
              "HBox(children=(FloatProgress(value=0.0), HTML(value='')))"
            ]
          },
          "metadata": {
            "tags": []
          }
        },
        {
          "output_type": "stream",
          "text": [
            "\n"
          ],
          "name": "stdout"
        }
      ]
    },
    {
      "cell_type": "code",
      "metadata": {
        "colab": {
          "base_uri": "https://localhost:8080/"
        },
        "id": "eboYf2z_X9qx",
        "outputId": "9b3519be-9814-4df6-8976-96c6e602dbf9"
      },
      "source": [
        "sorted(results, key=lambda x: x[\"scores\"])[0]"
      ],
      "execution_count": null,
      "outputs": [
        {
          "output_type": "execute_result",
          "data": {
            "text/plain": [
              "{'params': {'alpha': 0.3322066931156269,\n",
              "  'lr': 0.0007766819168952023,\n",
              "  'momentum': 0.9324095523714198},\n",
              " 'scores': 96.90172119140625}"
            ]
          },
          "metadata": {
            "tags": []
          },
          "execution_count": 9
        }
      ]
    },
    {
      "cell_type": "code",
      "metadata": {
        "colab": {
          "base_uri": "https://localhost:8080/",
          "height": 551
        },
        "id": "UW-q8K8zYC_e",
        "outputId": "c94b1b66-575e-408e-aa53-d035e878158b"
      },
      "source": [
        "alpha_losses = []\r\n",
        "train_losses = []\r\n",
        "alphas = np.arange(0.01, 10, 0.3)\r\n",
        "\r\n",
        "for a in alphas:\r\n",
        "    scores, train_scores = cross_val_score(LinearRegression, X, Y, alpha=a, momentum=0.8829630106771027, lr=0.0006148605325817324)\r\n",
        "    alpha_losses.append(scores.mean())\r\n",
        "    train_losses.append(train_scores.mean())\r\n",
        "    \r\n",
        "plt.figure(figsize=(16, 9))\r\n",
        "plot_alpha(alpha_losses, alphas, label=\"валидационная кривая\")\r\n",
        "plot_alpha(train_losses, alphas, color='blue', label=\"кривая обучения\")\r\n",
        "plt.legend()\r\n",
        "plt.show()"
      ],
      "execution_count": null,
      "outputs": [
        {
          "output_type": "display_data",
          "data": {
            "image/png": "[encoded data removed]",
            "text/plain": [
              "<Figure size 1152x648 with 1 Axes>"
            ]
          },
          "metadata": {
            "tags": [],
            "needs_background": "light"
          }
        }
      ]
    }
  ]
}