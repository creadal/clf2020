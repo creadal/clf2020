{
  "nbformat": 4,
  "nbformat_minor": 0,
  "metadata": {
    "kernelspec": {
      "display_name": "Python 3",
      "language": "python",
      "name": "python3"
    },
    "language_info": {
      "codemirror_mode": {
        "name": "ipython",
        "version": 3
      },
      "file_extension": ".py",
      "mimetype": "text/x-python",
      "name": "python",
      "nbconvert_exporter": "python",
      "pygments_lexer": "ipython3",
      "version": "3.6.9"
    },
    "colab": {
      "name": "Task_1.ipynb",
      "provenance": []
    }
  },
  "cells": [
    {
      "cell_type": "markdown",
      "metadata": {
        "id": "38G2kK21eADO"
      },
      "source": [
        "# Задание 1\n",
        "\n",
        "[Свертка списка](https://ru.wikipedia.org/wiki/%D0%A1%D0%B2%D1%91%D1%80%D1%82%D0%BA%D0%B0_%D1%81%D0%BF%D0%B8%D1%81%D0%BA%D0%B0) -  это обобщенная операция над списком, c помощью которой можно преобразовать список в единое значение. Например, рассмотрим реализации свертки слева и свертки справа (левоассоциативную свертку и правоассоциативную свертку):"
      ]
    },
    {
      "cell_type": "code",
      "metadata": {
        "collapsed": true,
        "jupyter": {
          "outputs_hidden": true
        },
        "id": "VJHLt2iTeADU"
      },
      "source": [
        "def foldl(f, x0, lst):\n",
        "    if not lst:\n",
        "        return x0\n",
        "    return foldl(f, f(x0, lst[0]), lst[1:])\n",
        "\n",
        "def foldr(f, x0, lst):\n",
        "    if not lst:\n",
        "        return x0\n",
        "    return f(lst[0], foldr(f, x0, lst[1:]))"
      ],
      "execution_count": null,
      "outputs": []
    },
    {
      "cell_type": "code",
      "metadata": {
        "colab": {
          "base_uri": "https://localhost:8080/"
        },
        "id": "zx-9qnateADW",
        "outputId": "eb553857-21eb-4d2c-a41c-6874ab90e194"
      },
      "source": [
        "#сумма\n",
        "foldl(lambda x, y: x + y, 0, [1, 2, 3])"
      ],
      "execution_count": null,
      "outputs": [
        {
          "output_type": "execute_result",
          "data": {
            "text/plain": [
              "6"
            ]
          },
          "metadata": {
            "tags": []
          },
          "execution_count": 34
        }
      ]
    },
    {
      "cell_type": "code",
      "metadata": {
        "colab": {
          "base_uri": "https://localhost:8080/",
          "height": 35
        },
        "id": "NE44VcMieADY",
        "outputId": "0ba3d3d2-6c8e-4838-83d8-ab4601ec5a11"
      },
      "source": [
        "#конкатенация\n",
        "foldl(lambda x, y: '{}{}'.format(x, y), '', [1, 2, 3])"
      ],
      "execution_count": null,
      "outputs": [
        {
          "output_type": "execute_result",
          "data": {
            "application/vnd.google.colaboratory.intrinsic+json": {
              "type": "string"
            },
            "text/plain": [
              "'123'"
            ]
          },
          "metadata": {
            "tags": []
          },
          "execution_count": 35
        }
      ]
    },
    {
      "cell_type": "code",
      "metadata": {
        "colab": {
          "base_uri": "https://localhost:8080/"
        },
        "id": "h5zqQM8PeADY",
        "outputId": "02e70b30-f107-4431-f92e-374daac5abe2"
      },
      "source": [
        "f = lambda x, y: x / y\n",
        "foldl(f, 1, [1, 2, 3]), \\\n",
        "foldr(f, 1, [1, 2, 3])"
      ],
      "execution_count": null,
      "outputs": [
        {
          "output_type": "execute_result",
          "data": {
            "text/plain": [
              "(0.16666666666666666, 1.5)"
            ]
          },
          "metadata": {
            "tags": []
          },
          "execution_count": 36
        }
      ]
    },
    {
      "cell_type": "markdown",
      "metadata": {
        "id": "zoROv7kkeADZ"
      },
      "source": [
        "Задача: реализовать foldl через foldr и наоборот. Вместо многоточий нужно вставить выражения, которые бы привели к нужному результату. Модифицировать сам список нельзя. "
      ]
    },
    {
      "cell_type": "code",
      "metadata": {
        "collapsed": true,
        "jupyter": {
          "outputs_hidden": true
        },
        "id": "NyKGBMAeeADa"
      },
      "source": [
        "def foldl2(f, x0, lst):\n",
        "    return foldr(lambda x, y: f(y, x), x0, lst)"
      ],
      "execution_count": null,
      "outputs": []
    },
    {
      "cell_type": "code",
      "metadata": {
        "collapsed": true,
        "jupyter": {
          "outputs_hidden": true
        },
        "id": "r_98DeMbeADa"
      },
      "source": [
        "def foldr2(f, x0, lst):\n",
        "    return foldl(lambda x, y: f(y, x), x0, lst)"
      ],
      "execution_count": null,
      "outputs": []
    },
    {
      "cell_type": "code",
      "metadata": {
        "colab": {
          "base_uri": "https://localhost:8080/"
        },
        "id": "mPAgMNxikuBZ",
        "outputId": "bc922666-1bfb-406f-dcbd-1d197723ce44"
      },
      "source": [
        "f = lambda x, y: x / y\r\n",
        "foldl2(f, 1, [1, 2, 3]), \\\r\n",
        "foldr2(f, 1, [1, 2, 3])"
      ],
      "execution_count": null,
      "outputs": [
        {
          "output_type": "execute_result",
          "data": {
            "text/plain": [
              "(0.16666666666666666, 1.5)"
            ]
          },
          "metadata": {
            "tags": []
          },
          "execution_count": 39
        }
      ]
    },
    {
      "cell_type": "markdown",
      "metadata": {
        "id": "7q5if32leADa"
      },
      "source": [
        "# Задание 2\n",
        "\n",
        "нужно написать функцию, которая принимает две строки и проверяет, входит ли хотя бы одна перестановка второй строки в первую. Например:\n",
        "\n",
        "> a = 'abcrotm'\n",
        "> \n",
        "> b = 'tro'\n",
        "\n",
        "функция def check_inv(a, b) вернет True, так как 'rot' содержится в 'abcrotm'. Нужно подумать как можно более оптимальный алгоритм и оценить его сложность. "
      ]
    },
    {
      "cell_type": "code",
      "metadata": {
        "collapsed": true,
        "jupyter": {
          "outputs_hidden": true
        },
        "id": "n-OhH9BIeADb"
      },
      "source": [
        "def f(a, b):\n",
        "  if len(a) != len(b):\n",
        "    return False\n",
        "  for c in a:\n",
        "    if c not in b:\n",
        "      return False\n",
        "  for c in b:\n",
        "    if c not in a:\n",
        "      return False\n",
        "  return True\n",
        "\n",
        "\n",
        "def check_inv(a, b):\n",
        "  fl = False\n",
        "  for i in range(len(a)-len(b)):\n",
        "    if f(b, a[i: i+len(b)]):\n",
        "      return True\n",
        "  return False    "
      ],
      "execution_count": null,
      "outputs": []
    },
    {
      "cell_type": "code",
      "metadata": {
        "colab": {
          "base_uri": "https://localhost:8080/"
        },
        "id": "NBzuaX2ZqYMs",
        "outputId": "4681174c-e9fe-4610-ef52-5bb67da7a1e5"
      },
      "source": [
        "a = 'abcrotm'\r\n",
        "b = 'tro'\r\n",
        "\r\n",
        "check_inv(a, b)"
      ],
      "execution_count": null,
      "outputs": [
        {
          "output_type": "execute_result",
          "data": {
            "text/plain": [
              "True"
            ]
          },
          "metadata": {
            "tags": []
          },
          "execution_count": 50
        }
      ]
    },
    {
      "cell_type": "markdown",
      "metadata": {
        "id": "mX4vXnnYu5i9"
      },
      "source": [
        "По поводу сложности алгоритма. У нас есть две строки длин n и m где n >= m. В f() мы производим в худшем случае 2m операций, всего f() вызывается n-m раз. Итого (n - m) * 2m = 2nm - 2m^2. Полином степени не более 2, следовательно мы можем утверждать, что сложность квадратичная - O(n^2)."
      ]
    },
    {
      "cell_type": "markdown",
      "metadata": {
        "id": "46Kmh3RAeADb"
      },
      "source": [
        "# Задание 3\n",
        "\n",
        "Реализовать бинарное дерево (класс Tree), в нём методы __repr__, __str__, __iter__ (итерация только по листьям)."
      ]
    },
    {
      "cell_type": "code",
      "metadata": {
        "colab": {
          "base_uri": "https://localhost:8080/"
        },
        "id": "TkB7F6ybeADb",
        "outputId": "13a8284b-c7d9-4ab1-baa4-d32a2535a451"
      },
      "source": [
        "class Tree:\n",
        "    def __init__(self, value=None, left=None, right=None):\n",
        "        self.left = left\n",
        "        self.right = right\n",
        "        self.value = value\n",
        "        \n",
        "    def __iter__(self):\n",
        "        if(self.left == None and self.right == None):\n",
        "            yield self.value\n",
        "            \n",
        "        if(self.left):\n",
        "            yield from self.left\n",
        "            \n",
        "        if(self.right):\n",
        "            yield from self.right\n",
        "        \n",
        "    \n",
        "    def __str__(self):\n",
        "        res = [str(self.value)]\n",
        "        \n",
        "        if(self.left):\n",
        "            res.append(self.left.__str__())\n",
        "            \n",
        "        if(self.right):\n",
        "            res.append(self.right.__str__())\n",
        "            \n",
        "        return ' '.join(res)\n",
        "    \n",
        "    def __repr__(self):\n",
        "        if(self.left == None and self.right == None):\n",
        "            return f\"Tree({self.value})\"\n",
        "        \n",
        "        if(self.right == None):\n",
        "            return f\"Tree({self.value}, {self.left.__repr__()})\"\n",
        "        \n",
        "        if(self.left == None):\n",
        "            return f\"Tree({self.value}, None, {self.right.__repr__()})\"\n",
        "        \n",
        "        \n",
        "        return f\"Tree({self.value}, {self.left.__repr__()}, {self.right.__repr__()})\"\n",
        " \n",
        "    \n",
        "tree = Tree(0, Tree(1, Tree(3), Tree(4)),                             \n",
        "               Tree(2))\n",
        "\n",
        "list(tree) == [3, 4, 2]"
      ],
      "execution_count": null,
      "outputs": [
        {
          "output_type": "execute_result",
          "data": {
            "text/plain": [
              "True"
            ]
          },
          "metadata": {
            "tags": []
          },
          "execution_count": 54
        }
      ]
    },
    {
      "cell_type": "markdown",
      "metadata": {
        "id": "Dce11UT5eADc"
      },
      "source": [
        "# Задание 4\n",
        "\n",
        "Реализовать простейший калькулятор математических выражений:\n",
        "- только целые числа\n",
        "- **+**, **\\-**, **\\***, **\\**\n",
        "- скобки\n",
        "\n",
        "**Можно использовать регулярные выражения**"
      ]
    },
    {
      "cell_type": "code",
      "metadata": {
        "colab": {
          "base_uri": "https://localhost:8080/"
        },
        "id": "lWkjViN4eADc",
        "outputId": "3e18edf2-2c54-497e-a08a-1633353fcd7c"
      },
      "source": [
        "def parse(expr):\n",
        "    buf = []\n",
        "\n",
        "    for val in expr.split(\" \"):\n",
        "        if(val[0] == \"(\"):\n",
        "            buf.append(\"(\")\n",
        "            buf.append(val[1:])\n",
        "        elif(val[-1] == \")\"):\n",
        "            buf.append(val[:-1])\n",
        "            buf.append(\")\")\n",
        "        else:\n",
        "            buf.append(val)\n",
        "\n",
        "    result = []\n",
        "    stack = []\n",
        "    high_priority = set([\"*\", \"/\"])\n",
        "    low_priority = set([\"+\", \"-\"])\n",
        "    \n",
        "    for val in buf:\n",
        "        if(val.isnumeric()):\n",
        "            result.append(val)\n",
        "        if(val == \"(\"):\n",
        "            stack.append(val)\n",
        "        if(val == \")\"):\n",
        "            while(stack[-1] != \"(\"):\n",
        "                result.append(stack.pop())\n",
        "            stack.pop()\n",
        "        if(val in low_priority):\n",
        "            while(len(stack) > 0 and stack[-1] in high_priority):\n",
        "                result.append(stack.pop())\n",
        "            stack.append(val)\n",
        "        if(val in high_priority):\n",
        "            stack.append(val)\n",
        "            \n",
        "    while(len(stack) > 0):\n",
        "        result.append(stack.pop())\n",
        "    \n",
        "    return result\n",
        "\n",
        "def calc(expr):\n",
        "    operations = {\n",
        "        \"+\": lambda x, y: x + y,\n",
        "        \"-\": lambda x, y: x - y,\n",
        "        \"*\": lambda x, y: x * y,\n",
        "        \"/\": lambda x, y: x / y\n",
        "    }\n",
        "    \n",
        "    expr = parse(expr)\n",
        "    stack = []\n",
        "    \n",
        "    for val in expr:\n",
        "        if(val.isnumeric()):\n",
        "            stack.append(int(val))\n",
        "        if(val in operations):\n",
        "            right = stack.pop()\n",
        "            left = stack.pop()\n",
        "            stack.append(operations[val](left, right))\n",
        "    return stack.pop()\n",
        "\n",
        "calc('2 * (15 - 3 * 4) - 2')"
      ],
      "execution_count": 4,
      "outputs": [
        {
          "output_type": "execute_result",
          "data": {
            "text/plain": [
              "4"
            ]
          },
          "metadata": {
            "tags": []
          },
          "execution_count": 4
        }
      ]
    }
  ]
}